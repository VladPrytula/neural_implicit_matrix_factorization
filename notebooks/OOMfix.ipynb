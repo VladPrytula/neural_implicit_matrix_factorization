{
 "cells": [
  {
   "cell_type": "code",
   "execution_count": 13,
   "metadata": {},
   "outputs": [],
   "source": [
    "import torch\n",
    "import pandas as pd"
   ]
  },
  {
   "cell_type": "code",
   "execution_count": 2,
   "metadata": {},
   "outputs": [],
   "source": [
    "from os import listdir\n",
    "from os.path import isfile, join\n",
    "misc_path = '../misc'\n",
    "onlyfiles = [f for f in listdir(misc_path) if isfile(join(misc_path, f))]"
   ]
  },
  {
   "cell_type": "code",
   "execution_count": 3,
   "metadata": {},
   "outputs": [
    {
     "data": {
      "text/plain": [
       "['negative_items.pt',\n",
       " 'positive_interactions_users.pt',\n",
       " 'test_items.pt',\n",
       " 'negative_interactions_users.pt']"
      ]
     },
     "execution_count": 3,
     "metadata": {},
     "output_type": "execute_result"
    }
   ],
   "source": [
    "onlyfiles"
   ]
  },
  {
   "cell_type": "code",
   "execution_count": 6,
   "metadata": {},
   "outputs": [],
   "source": [
    "negative_items = torch.load(misc_path + r'/' + onlyfiles[0])\n",
    "positive_interactions_users = torch.load(misc_path + r'/' + r'/' + onlyfiles[1])\n",
    "test_items = torch.load(misc_path + r'/' + onlyfiles[2])\n",
    "negative_interactions_users = torch.load(misc_path + r'/' + onlyfiles[3])"
   ]
  },
  {
   "cell_type": "code",
   "execution_count": 9,
   "metadata": {},
   "outputs": [
    {
     "data": {
      "text/plain": [
       "torch.Size([597960])"
      ]
     },
     "execution_count": 9,
     "metadata": {},
     "output_type": "execute_result"
    }
   ],
   "source": [
    "negative_items.shape"
   ]
  },
  {
   "cell_type": "code",
   "execution_count": 10,
   "metadata": {},
   "outputs": [
    {
     "data": {
      "text/plain": [
       "torch.Size([6040])"
      ]
     },
     "execution_count": 10,
     "metadata": {},
     "output_type": "execute_result"
    }
   ],
   "source": [
    "positive_interactions_users.shape"
   ]
  },
  {
   "cell_type": "code",
   "execution_count": 11,
   "metadata": {},
   "outputs": [
    {
     "data": {
      "text/plain": [
       "torch.Size([6040])"
      ]
     },
     "execution_count": 11,
     "metadata": {},
     "output_type": "execute_result"
    }
   ],
   "source": [
    "test_items.shape"
   ]
  },
  {
   "cell_type": "code",
   "execution_count": 12,
   "metadata": {},
   "outputs": [
    {
     "data": {
      "text/plain": [
       "torch.Size([597960])"
      ]
     },
     "execution_count": 12,
     "metadata": {},
     "output_type": "execute_result"
    }
   ],
   "source": [
    "negative_interactions_users.shape"
   ]
  },
  {
   "cell_type": "code",
   "execution_count": 64,
   "metadata": {},
   "outputs": [],
   "source": [
    "test_rankings = pd.read_pickle('../misc/_test_ratings.pkl')"
   ]
  },
  {
   "cell_type": "code",
   "execution_count": 65,
   "metadata": {},
   "outputs": [
    {
     "data": {
      "text/html": [
       "<div>\n",
       "<style scoped>\n",
       "    .dataframe tbody tr th:only-of-type {\n",
       "        vertical-align: middle;\n",
       "    }\n",
       "\n",
       "    .dataframe tbody tr th {\n",
       "        vertical-align: top;\n",
       "    }\n",
       "\n",
       "    .dataframe thead th {\n",
       "        text-align: right;\n",
       "    }\n",
       "</style>\n",
       "<table border=\"1\" class=\"dataframe\">\n",
       "  <thead>\n",
       "    <tr style=\"text-align: right;\">\n",
       "      <th></th>\n",
       "      <th>userId</th>\n",
       "      <th>itemId</th>\n",
       "      <th>rating</th>\n",
       "      <th>negative_samples</th>\n",
       "    </tr>\n",
       "  </thead>\n",
       "  <tbody>\n",
       "    <tr>\n",
       "      <th>0</th>\n",
       "      <td>0</td>\n",
       "      <td>25</td>\n",
       "      <td>1.0</td>\n",
       "      <td>[463, 1745, 3669, 1769, 134, 1917, 519, 1863, ...</td>\n",
       "    </tr>\n",
       "    <tr>\n",
       "      <th>1</th>\n",
       "      <td>1</td>\n",
       "      <td>66</td>\n",
       "      <td>1.0</td>\n",
       "      <td>[3501, 3364, 2796, 3337, 2591, 3685, 1961, 314...</td>\n",
       "    </tr>\n",
       "    <tr>\n",
       "      <th>2</th>\n",
       "      <td>2</td>\n",
       "      <td>207</td>\n",
       "      <td>1.0</td>\n",
       "      <td>[2666, 2665, 1704, 3246, 747, 1115, 3000, 37, ...</td>\n",
       "    </tr>\n",
       "    <tr>\n",
       "      <th>3</th>\n",
       "      <td>3</td>\n",
       "      <td>208</td>\n",
       "      <td>1.0</td>\n",
       "      <td>[3692, 2946, 2014, 696, 2697, 2580, 1701, 347,...</td>\n",
       "    </tr>\n",
       "    <tr>\n",
       "      <th>4</th>\n",
       "      <td>4</td>\n",
       "      <td>222</td>\n",
       "      <td>1.0</td>\n",
       "      <td>[2326, 58, 3329, 3037, 3017, 2512, 1196, 2191,...</td>\n",
       "    </tr>\n",
       "  </tbody>\n",
       "</table>\n",
       "</div>"
      ],
      "text/plain": [
       "   userId  itemId  rating                                   negative_samples\n",
       "0       0      25     1.0  [463, 1745, 3669, 1769, 134, 1917, 519, 1863, ...\n",
       "1       1      66     1.0  [3501, 3364, 2796, 3337, 2591, 3685, 1961, 314...\n",
       "2       2     207     1.0  [2666, 2665, 1704, 3246, 747, 1115, 3000, 37, ...\n",
       "3       3     208     1.0  [3692, 2946, 2014, 696, 2697, 2580, 1701, 347,...\n",
       "4       4     222     1.0  [2326, 58, 3329, 3037, 3017, 2512, 1196, 2191,..."
      ]
     },
     "execution_count": 65,
     "metadata": {},
     "output_type": "execute_result"
    }
   ],
   "source": [
    "test_rankings.head()"
   ]
  },
  {
   "cell_type": "code",
   "execution_count": 66,
   "metadata": {},
   "outputs": [
    {
     "data": {
      "text/plain": [
       "Index(['userId', 'itemId', 'rating', 'negative_samples'], dtype='object')"
      ]
     },
     "execution_count": 66,
     "metadata": {},
     "output_type": "execute_result"
    }
   ],
   "source": [
    "test_rankings.columns"
   ]
  },
  {
   "cell_type": "code",
   "execution_count": 67,
   "metadata": {},
   "outputs": [
    {
     "data": {
      "text/plain": [
       "Int64Index([   0,    1,    2,    3,    4,    5,    6,    7,    8,    9,\n",
       "            ...\n",
       "            6030, 6031, 6032, 6033, 6034, 6035, 6036, 6037, 6038, 6039],\n",
       "           dtype='int64', length=6040)"
      ]
     },
     "execution_count": 67,
     "metadata": {},
     "output_type": "execute_result"
    }
   ],
   "source": [
    "test_rankings.index"
   ]
  },
  {
   "cell_type": "code",
   "execution_count": 68,
   "metadata": {},
   "outputs": [
    {
     "data": {
      "text/plain": [
       "userId                                                             10\n",
       "itemId                                                            820\n",
       "rating                                                              1\n",
       "negative_samples    [1859, 3183, 588, 2550, 1107, 1592, 3187, 1206...\n",
       "Name: 10, dtype: object"
      ]
     },
     "execution_count": 68,
     "metadata": {},
     "output_type": "execute_result"
    }
   ],
   "source": [
    "test_rankings.iloc[10]"
   ]
  },
  {
   "cell_type": "code",
   "execution_count": 101,
   "metadata": {},
   "outputs": [],
   "source": [
    "row = test_rankings.iloc[10:12]"
   ]
  },
  {
   "cell_type": "code",
   "execution_count": 102,
   "metadata": {},
   "outputs": [
    {
     "data": {
      "text/html": [
       "<div>\n",
       "<style scoped>\n",
       "    .dataframe tbody tr th:only-of-type {\n",
       "        vertical-align: middle;\n",
       "    }\n",
       "\n",
       "    .dataframe tbody tr th {\n",
       "        vertical-align: top;\n",
       "    }\n",
       "\n",
       "    .dataframe thead th {\n",
       "        text-align: right;\n",
       "    }\n",
       "</style>\n",
       "<table border=\"1\" class=\"dataframe\">\n",
       "  <thead>\n",
       "    <tr style=\"text-align: right;\">\n",
       "      <th></th>\n",
       "      <th>userId</th>\n",
       "      <th>itemId</th>\n",
       "      <th>rating</th>\n",
       "      <th>negative_samples</th>\n",
       "    </tr>\n",
       "  </thead>\n",
       "  <tbody>\n",
       "    <tr>\n",
       "      <th>10</th>\n",
       "      <td>10</td>\n",
       "      <td>820</td>\n",
       "      <td>1.0</td>\n",
       "      <td>[1859, 3183, 588, 2550, 1107, 1592, 3187, 1206...</td>\n",
       "    </tr>\n",
       "    <tr>\n",
       "      <th>11</th>\n",
       "      <td>11</td>\n",
       "      <td>829</td>\n",
       "      <td>1.0</td>\n",
       "      <td>[1888, 1652, 3609, 579, 3285, 3682, 801, 3517,...</td>\n",
       "    </tr>\n",
       "  </tbody>\n",
       "</table>\n",
       "</div>"
      ],
      "text/plain": [
       "    userId  itemId  rating                                   negative_samples\n",
       "10      10     820     1.0  [1859, 3183, 588, 2550, 1107, 1592, 3187, 1206...\n",
       "11      11     829     1.0  [1888, 1652, 3609, 579, 3285, 3682, 801, 3517,..."
      ]
     },
     "execution_count": 102,
     "metadata": {},
     "output_type": "execute_result"
    }
   ],
   "source": [
    "row"
   ]
  },
  {
   "cell_type": "code",
   "execution_count": 103,
   "metadata": {},
   "outputs": [
    {
     "data": {
      "text/plain": [
       "pandas.core.frame.DataFrame"
      ]
     },
     "execution_count": 103,
     "metadata": {},
     "output_type": "execute_result"
    }
   ],
   "source": [
    "type(row)"
   ]
  },
  {
   "cell_type": "code",
   "execution_count": 104,
   "metadata": {},
   "outputs": [
    {
     "data": {
      "text/plain": [
       "pandas.core.series.Series"
      ]
     },
     "execution_count": 104,
     "metadata": {},
     "output_type": "execute_result"
    }
   ],
   "source": [
    "type(row.userId)"
   ]
  },
  {
   "cell_type": "code",
   "execution_count": 85,
   "metadata": {},
   "outputs": [],
   "source": [
    "usr_id_t = torch.LongTensor([row.userId])"
   ]
  },
  {
   "cell_type": "code",
   "execution_count": 86,
   "metadata": {},
   "outputs": [],
   "source": [
    "ns_t = torch.LongTensor(row.negative_samples)"
   ]
  },
  {
   "cell_type": "code",
   "execution_count": 87,
   "metadata": {},
   "outputs": [
    {
     "data": {
      "text/plain": [
       "torch.Size([99])"
      ]
     },
     "execution_count": 87,
     "metadata": {},
     "output_type": "execute_result"
    }
   ],
   "source": [
    "ns_t.shape"
   ]
  },
  {
   "cell_type": "code",
   "execution_count": 88,
   "metadata": {},
   "outputs": [
    {
     "data": {
      "text/plain": [
       "torch.Size([1])"
      ]
     },
     "execution_count": 88,
     "metadata": {},
     "output_type": "execute_result"
    }
   ],
   "source": [
    "usr_id_t.shape"
   ]
  },
  {
   "cell_type": "code",
   "execution_count": 89,
   "metadata": {},
   "outputs": [
    {
     "data": {
      "text/plain": [
       "tensor([10])"
      ]
     },
     "execution_count": 89,
     "metadata": {},
     "output_type": "execute_result"
    }
   ],
   "source": [
    "usr_id_t"
   ]
  },
  {
   "cell_type": "code",
   "execution_count": 90,
   "metadata": {},
   "outputs": [
    {
     "data": {
      "text/plain": [
       "tensor([1859, 3183,  588, 2550, 1107, 1592, 3187, 1206, 2097,  961,   81, 2240,\n",
       "          69,  188, 1338, 1380,  734, 2678, 1113, 2223, 2777, 2984, 1937, 1856,\n",
       "        2055, 1689, 3465, 1194, 3085,  479,  190, 2723, 3064,  232, 2817,  244,\n",
       "        1495, 1125, 2704, 1359,  353, 3065, 3471, 2319, 2843, 1234, 2935,  730,\n",
       "        2933, 1806, 3560, 3441, 3271,  966, 3498, 2946, 1228, 1959, 2709,  421,\n",
       "        1712,  473, 2801, 3462, 3159, 1475, 2865, 2478,  776, 3353,  846, 3695,\n",
       "        1671,  693,  226, 1832, 3167, 2155, 2109,  677, 3051, 3098, 2178,   66,\n",
       "         493, 2806,  618,   82, 1325, 2202, 2635, 1224,  316, 1179, 2552, 3266,\n",
       "         880, 2007, 3389])"
      ]
     },
     "execution_count": 90,
     "metadata": {},
     "output_type": "execute_result"
    }
   ],
   "source": [
    "ns_t"
   ]
  },
  {
   "cell_type": "code",
   "execution_count": 91,
   "metadata": {},
   "outputs": [
    {
     "data": {
      "text/plain": [
       "10"
      ]
     },
     "execution_count": 91,
     "metadata": {},
     "output_type": "execute_result"
    }
   ],
   "source": [
    "row.userId"
   ]
  },
  {
   "cell_type": "code",
   "execution_count": 92,
   "metadata": {},
   "outputs": [
    {
     "data": {
      "text/plain": [
       "6040"
      ]
     },
     "execution_count": 92,
     "metadata": {},
     "output_type": "execute_result"
    }
   ],
   "source": [
    "len(test_rankings.userId)"
   ]
  },
  {
   "cell_type": "code",
   "execution_count": 93,
   "metadata": {},
   "outputs": [
    {
     "data": {
      "text/plain": [
       "6040"
      ]
     },
     "execution_count": 93,
     "metadata": {},
     "output_type": "execute_result"
    }
   ],
   "source": [
    "test_rankings.shape[0]"
   ]
  },
  {
   "cell_type": "code",
   "execution_count": 32,
   "metadata": {},
   "outputs": [],
   "source": [
    "a = torch.tensor([1.0, 5, 2])"
   ]
  },
  {
   "cell_type": "code",
   "execution_count": 33,
   "metadata": {},
   "outputs": [
    {
     "data": {
      "text/plain": [
       "tensor([1., 5., 2.])"
      ]
     },
     "execution_count": 33,
     "metadata": {},
     "output_type": "execute_result"
    }
   ],
   "source": [
    "a"
   ]
  },
  {
   "cell_type": "code",
   "execution_count": 43,
   "metadata": {},
   "outputs": [
    {
     "data": {
      "text/plain": [
       "tensor([[1., 5., 2.],\n",
       "        [1., 5., 2.],\n",
       "        [1., 5., 2.]])"
      ]
     },
     "execution_count": 43,
     "metadata": {},
     "output_type": "execute_result"
    }
   ],
   "source": [
    "a.repeat(3).view(-1,3)"
   ]
  },
  {
   "cell_type": "code",
   "execution_count": 38,
   "metadata": {},
   "outputs": [],
   "source": [
    "z = torch.FloatTensor([[1,2,3],[4,5,6]])\n",
    "z1 = z.repeat(1,4).view(-1, 3)"
   ]
  },
  {
   "cell_type": "code",
   "execution_count": 39,
   "metadata": {},
   "outputs": [
    {
     "data": {
      "text/plain": [
       "tensor([[1., 2., 3.],\n",
       "        [1., 2., 3.],\n",
       "        [1., 2., 3.],\n",
       "        [1., 2., 3.],\n",
       "        [4., 5., 6.],\n",
       "        [4., 5., 6.],\n",
       "        [4., 5., 6.],\n",
       "        [4., 5., 6.]])"
      ]
     },
     "execution_count": 39,
     "metadata": {},
     "output_type": "execute_result"
    }
   ],
   "source": [
    "z1"
   ]
  },
  {
   "cell_type": "code",
   "execution_count": 40,
   "metadata": {},
   "outputs": [
    {
     "data": {
      "text/plain": [
       "tensor([[1., 2., 3.],\n",
       "        [4., 5., 6.]])"
      ]
     },
     "execution_count": 40,
     "metadata": {},
     "output_type": "execute_result"
    }
   ],
   "source": [
    "z"
   ]
  },
  {
   "cell_type": "code",
   "execution_count": 51,
   "metadata": {},
   "outputs": [],
   "source": [
    "### this the correct approach"
   ]
  },
  {
   "cell_type": "code",
   "execution_count": 52,
   "metadata": {},
   "outputs": [],
   "source": [
    "a = torch.Tensor([1,2,3,4])"
   ]
  },
  {
   "cell_type": "code",
   "execution_count": 53,
   "metadata": {},
   "outputs": [
    {
     "data": {
      "text/plain": [
       "torch.Size([4])"
      ]
     },
     "execution_count": 53,
     "metadata": {},
     "output_type": "execute_result"
    }
   ],
   "source": [
    "a.shape"
   ]
  },
  {
   "cell_type": "code",
   "execution_count": 54,
   "metadata": {},
   "outputs": [
    {
     "data": {
      "text/plain": [
       "tensor([1., 2., 3., 4.])"
      ]
     },
     "execution_count": 54,
     "metadata": {},
     "output_type": "execute_result"
    }
   ],
   "source": [
    "a"
   ]
  },
  {
   "cell_type": "code",
   "execution_count": 99,
   "metadata": {},
   "outputs": [],
   "source": [
    "b = a.reshape(-1,1)"
   ]
  },
  {
   "cell_type": "code",
   "execution_count": 100,
   "metadata": {},
   "outputs": [
    {
     "data": {
      "text/plain": [
       "tensor([[1.],\n",
       "        [2.],\n",
       "        [3.],\n",
       "        [4.]])"
      ]
     },
     "execution_count": 100,
     "metadata": {},
     "output_type": "execute_result"
    }
   ],
   "source": [
    "b"
   ]
  },
  {
   "cell_type": "code",
   "execution_count": 58,
   "metadata": {},
   "outputs": [
    {
     "data": {
      "text/plain": [
       "torch.Size([4, 1])"
      ]
     },
     "execution_count": 58,
     "metadata": {},
     "output_type": "execute_result"
    }
   ],
   "source": [
    "b.shape"
   ]
  },
  {
   "cell_type": "code",
   "execution_count": 59,
   "metadata": {},
   "outputs": [
    {
     "data": {
      "text/plain": [
       "tensor([[1., 1., 1.],\n",
       "        [2., 2., 2.],\n",
       "        [3., 3., 3.],\n",
       "        [4., 4., 4.]])"
      ]
     },
     "execution_count": 59,
     "metadata": {},
     "output_type": "execute_result"
    }
   ],
   "source": [
    "b.repeat(1,3)"
   ]
  },
  {
   "cell_type": "code",
   "execution_count": 50,
   "metadata": {},
   "outputs": [
    {
     "data": {
      "text/plain": [
       "tensor([1., 1., 1., 2., 2., 2., 3., 3., 3., 4., 4., 4.])"
      ]
     },
     "execution_count": 50,
     "metadata": {},
     "output_type": "execute_result"
    }
   ],
   "source": [
    "a.reshape(4,1).repeat(1,3).view(-1)"
   ]
  },
  {
   "cell_type": "code",
   "execution_count": 61,
   "metadata": {},
   "outputs": [
    {
     "data": {
      "text/plain": [
       "torch.Size([99])"
      ]
     },
     "execution_count": 61,
     "metadata": {},
     "output_type": "execute_result"
    }
   ],
   "source": [
    "ns_t.shape"
   ]
  },
  {
   "cell_type": "code",
   "execution_count": 105,
   "metadata": {},
   "outputs": [],
   "source": [
    "user_id = torch.LongTensor([10,11])"
   ]
  },
  {
   "cell_type": "code",
   "execution_count": 106,
   "metadata": {},
   "outputs": [
    {
     "data": {
      "text/plain": [
       "tensor([10, 11])"
      ]
     },
     "execution_count": 106,
     "metadata": {},
     "output_type": "execute_result"
    }
   ],
   "source": [
    "user_id"
   ]
  },
  {
   "cell_type": "code",
   "execution_count": 111,
   "metadata": {},
   "outputs": [
    {
     "data": {
      "text/plain": [
       "tensor([10, 10, 10, 10, 10, 10, 10, 10, 10, 10, 10, 10, 10, 10, 10, 10, 10, 10,\n",
       "        10, 10, 10, 10, 10, 10, 10, 10, 10, 10, 10, 10, 10, 10, 10, 10, 10, 10,\n",
       "        10, 10, 10, 10, 10, 10, 10, 10, 10, 10, 10, 10, 10, 10, 10, 10, 10, 10,\n",
       "        10, 10, 10, 10, 10, 10, 10, 10, 10, 10, 10, 10, 10, 10, 10, 10, 10, 10,\n",
       "        10, 10, 10, 10, 10, 10, 10, 10, 10, 10, 10, 10, 10, 10, 10, 10, 10, 10,\n",
       "        10, 10, 10, 10, 10, 10, 10, 10, 10, 11, 11, 11, 11, 11, 11, 11, 11, 11,\n",
       "        11, 11, 11, 11, 11, 11, 11, 11, 11, 11, 11, 11, 11, 11, 11, 11, 11, 11,\n",
       "        11, 11, 11, 11, 11, 11, 11, 11, 11, 11, 11, 11, 11, 11, 11, 11, 11, 11,\n",
       "        11, 11, 11, 11, 11, 11, 11, 11, 11, 11, 11, 11, 11, 11, 11, 11, 11, 11,\n",
       "        11, 11, 11, 11, 11, 11, 11, 11, 11, 11, 11, 11, 11, 11, 11, 11, 11, 11,\n",
       "        11, 11, 11, 11, 11, 11, 11, 11, 11, 11, 11, 11, 11, 11, 11, 11, 11, 11])"
      ]
     },
     "execution_count": 111,
     "metadata": {},
     "output_type": "execute_result"
    }
   ],
   "source": [
    "user_id.reshape(-1,1).repeat(1,ns_t.shape[0]).view(-1)"
   ]
  },
  {
   "cell_type": "code",
   "execution_count": 109,
   "metadata": {},
   "outputs": [
    {
     "data": {
      "text/plain": [
       "99"
      ]
     },
     "execution_count": 109,
     "metadata": {},
     "output_type": "execute_result"
    }
   ],
   "source": [
    "ns_t.shape[0]"
   ]
  },
  {
   "cell_type": "code",
   "execution_count": 112,
   "metadata": {},
   "outputs": [
    {
     "data": {
      "text/plain": [
       "tensor([1859, 3183,  588, 2550, 1107, 1592, 3187, 1206, 2097,  961,   81, 2240,\n",
       "          69,  188, 1338, 1380,  734, 2678, 1113, 2223, 2777, 2984, 1937, 1856,\n",
       "        2055, 1689, 3465, 1194, 3085,  479,  190, 2723, 3064,  232, 2817,  244,\n",
       "        1495, 1125, 2704, 1359,  353, 3065, 3471, 2319, 2843, 1234, 2935,  730,\n",
       "        2933, 1806, 3560, 3441, 3271,  966, 3498, 2946, 1228, 1959, 2709,  421,\n",
       "        1712,  473, 2801, 3462, 3159, 1475, 2865, 2478,  776, 3353,  846, 3695,\n",
       "        1671,  693,  226, 1832, 3167, 2155, 2109,  677, 3051, 3098, 2178,   66,\n",
       "         493, 2806,  618,   82, 1325, 2202, 2635, 1224,  316, 1179, 2552, 3266,\n",
       "         880, 2007, 3389])"
      ]
     },
     "execution_count": 112,
     "metadata": {},
     "output_type": "execute_result"
    }
   ],
   "source": [
    "ns_t"
   ]
  },
  {
   "cell_type": "markdown",
   "metadata": {},
   "source": [
    "## doing some zips"
   ]
  },
  {
   "cell_type": "code",
   "execution_count": 209,
   "metadata": {},
   "outputs": [],
   "source": [
    "a = torch.tensor([1,2])\n",
    "b = torch.tensor([[3,6],[4,8]])"
   ]
  },
  {
   "cell_type": "code",
   "execution_count": 210,
   "metadata": {},
   "outputs": [
    {
     "data": {
      "text/plain": [
       "[(tensor(1), tensor([3, 6])), (tensor(2), tensor([4, 8]))]"
      ]
     },
     "execution_count": 210,
     "metadata": {},
     "output_type": "execute_result"
    }
   ],
   "source": [
    "list(zip(a,b))"
   ]
  },
  {
   "cell_type": "code",
   "execution_count": 211,
   "metadata": {},
   "outputs": [
    {
     "data": {
      "text/plain": [
       "torch.Size([2])"
      ]
     },
     "execution_count": 211,
     "metadata": {},
     "output_type": "execute_result"
    }
   ],
   "source": [
    "a.shape"
   ]
  },
  {
   "cell_type": "code",
   "execution_count": 212,
   "metadata": {},
   "outputs": [
    {
     "data": {
      "text/plain": [
       "torch.Size([2, 2])"
      ]
     },
     "execution_count": 212,
     "metadata": {},
     "output_type": "execute_result"
    }
   ],
   "source": [
    "b.shape"
   ]
  },
  {
   "cell_type": "code",
   "execution_count": 213,
   "metadata": {},
   "outputs": [
    {
     "data": {
      "text/plain": [
       "tensor([[3, 6],\n",
       "        [4, 8]])"
      ]
     },
     "execution_count": 213,
     "metadata": {},
     "output_type": "execute_result"
    }
   ],
   "source": [
    "b"
   ]
  },
  {
   "cell_type": "code",
   "execution_count": 222,
   "metadata": {},
   "outputs": [
    {
     "data": {
      "text/plain": [
       "tensor([[1, 1],\n",
       "        [2, 2]])"
      ]
     },
     "execution_count": 222,
     "metadata": {},
     "output_type": "execute_result"
    }
   ],
   "source": [
    "a.reshape(-1,1).repeat(1,2).reshape(2,2)"
   ]
  },
  {
   "cell_type": "code",
   "execution_count": 226,
   "metadata": {},
   "outputs": [
    {
     "data": {
      "text/plain": [
       "tensor([[1, 2],\n",
       "        [1, 2]])"
      ]
     },
     "execution_count": 226,
     "metadata": {},
     "output_type": "execute_result"
    }
   ],
   "source": [
    "torch.transpose(a.reshape(-1,1).repeat(1,2).reshape(2,2), 1,0)"
   ]
  },
  {
   "cell_type": "code",
   "execution_count": 219,
   "metadata": {},
   "outputs": [
    {
     "data": {
      "text/plain": [
       "tensor([[1, 1, 3, 6],\n",
       "        [2, 2, 4, 8]])"
      ]
     },
     "execution_count": 219,
     "metadata": {},
     "output_type": "execute_result"
    }
   ],
   "source": [
    "torch.cat((a.reshape(-1,1).repeat(1,2).reshape(2,2),b),dim=1)"
   ]
  },
  {
   "cell_type": "code",
   "execution_count": 227,
   "metadata": {},
   "outputs": [
    {
     "data": {
      "text/plain": [
       "tensor([[1, 2, 3, 6],\n",
       "        [1, 2, 4, 8]])"
      ]
     },
     "execution_count": 227,
     "metadata": {},
     "output_type": "execute_result"
    }
   ],
   "source": [
    "torch.cat((torch.transpose(a.reshape(-1,1).repeat(1,2).reshape(2,2), 1,0),\n",
    "           b),dim=1)"
   ]
  },
  {
   "cell_type": "code",
   "execution_count": 228,
   "metadata": {},
   "outputs": [
    {
     "data": {
      "text/plain": [
       "tensor([3, 6, 4, 8])"
      ]
     },
     "execution_count": 228,
     "metadata": {},
     "output_type": "execute_result"
    }
   ],
   "source": [
    "b.reshape(-1)"
   ]
  },
  {
   "cell_type": "markdown",
   "metadata": {},
   "source": [
    "# Dumb iterative approach"
   ]
  },
  {
   "cell_type": "markdown",
   "metadata": {},
   "source": [
    "model the situatin with batch of 2"
   ]
  },
  {
   "cell_type": "code",
   "execution_count": 229,
   "metadata": {},
   "outputs": [],
   "source": [
    "row_1 = test_rankings.iloc[10]\n",
    "row_2 = test_rankings.iloc[11]"
   ]
  },
  {
   "cell_type": "code",
   "execution_count": 230,
   "metadata": {},
   "outputs": [
    {
     "data": {
      "text/plain": [
       "userId                                                             10\n",
       "itemId                                                            820\n",
       "rating                                                              1\n",
       "negative_samples    [1859, 3183, 588, 2550, 1107, 1592, 3187, 1206...\n",
       "Name: 10, dtype: object"
      ]
     },
     "execution_count": 230,
     "metadata": {},
     "output_type": "execute_result"
    }
   ],
   "source": [
    "row_1"
   ]
  },
  {
   "cell_type": "code",
   "execution_count": 231,
   "metadata": {},
   "outputs": [
    {
     "data": {
      "text/plain": [
       "userId                                                             11\n",
       "itemId                                                            829\n",
       "rating                                                              1\n",
       "negative_samples    [1888, 1652, 3609, 579, 3285, 3682, 801, 3517,...\n",
       "Name: 11, dtype: object"
      ]
     },
     "execution_count": 231,
     "metadata": {},
     "output_type": "execute_result"
    }
   ],
   "source": [
    "row_2"
   ]
  },
  {
   "cell_type": "code",
   "execution_count": 233,
   "metadata": {},
   "outputs": [
    {
     "data": {
      "text/plain": [
       "(tensor([10]),\n",
       " tensor([820]),\n",
       " tensor([1859, 3183,  588, 2550, 1107, 1592, 3187, 1206, 2097,  961,   81, 2240,\n",
       "           69,  188, 1338, 1380,  734, 2678, 1113, 2223, 2777, 2984, 1937, 1856,\n",
       "         2055, 1689, 3465, 1194, 3085,  479,  190, 2723, 3064,  232, 2817,  244,\n",
       "         1495, 1125, 2704, 1359,  353, 3065, 3471, 2319, 2843, 1234, 2935,  730,\n",
       "         2933, 1806, 3560, 3441, 3271,  966, 3498, 2946, 1228, 1959, 2709,  421,\n",
       "         1712,  473, 2801, 3462, 3159, 1475, 2865, 2478,  776, 3353,  846, 3695,\n",
       "         1671,  693,  226, 1832, 3167, 2155, 2109,  677, 3051, 3098, 2178,   66,\n",
       "          493, 2806,  618,   82, 1325, 2202, 2635, 1224,  316, 1179, 2552, 3266,\n",
       "          880, 2007, 3389]))"
      ]
     },
     "execution_count": 233,
     "metadata": {},
     "output_type": "execute_result"
    }
   ],
   "source": [
    "(torch.LongTensor([row_1.userId]),\n",
    "torch.LongTensor([row_1.itemId]),\n",
    "torch.LongTensor(row_1.negative_samples))"
   ]
  },
  {
   "cell_type": "code",
   "execution_count": 234,
   "metadata": {},
   "outputs": [
    {
     "data": {
      "text/plain": [
       "(tensor([11]),\n",
       " tensor([829]),\n",
       " tensor([1888, 1652, 3609,  579, 3285, 3682,  801, 3517,  203, 2464,  297, 3006,\n",
       "          132, 3255, 1468, 1691, 2864, 2313, 2024, 3231, 2924,  142,  667, 3061,\n",
       "         3463, 1030, 2797, 3179, 1705,  150, 3147,  810, 2927, 3537, 1477, 1934,\n",
       "          855, 2675, 1685, 3141, 3187, 1466, 1556, 3343, 2482,  763, 1168, 2280,\n",
       "          242, 2334,  194,  851, 3598, 2530,  133,  251,  246, 2876, 2950, 1791,\n",
       "         1395, 3668, 3519,   50, 1501,   73,  399, 2431, 3495, 3676, 1859,  963,\n",
       "          805, 2963, 3486, 1133, 2826, 1079, 2003,  630, 2436, 1386,  319,  879,\n",
       "         3448, 2784, 1773, 2816,  922, 1737, 3443, 1327, 3129,  849, 1052, 1764,\n",
       "          116,  644,  284]))"
      ]
     },
     "execution_count": 234,
     "metadata": {},
     "output_type": "execute_result"
    }
   ],
   "source": [
    "(torch.LongTensor([row_2.userId]),\n",
    "torch.LongTensor([row_2.itemId]),\n",
    "torch.LongTensor(row_2.negative_samples))"
   ]
  },
  {
   "cell_type": "code",
   "execution_count": 249,
   "metadata": {},
   "outputs": [],
   "source": [
    "test_users, test_items, negative_samples = (\n",
    "    [torch.LongTensor([row_1.userId]), torch.LongTensor([row_2.userId])],\n",
    "    [torch.LongTensor([row_1.itemId]), torch.LongTensor([row_2.itemId])],\n",
    "    [torch.LongTensor(row_1.negative_samples), torch.LongTensor(row_2.negative_samples)]\n",
    ")"
   ]
  },
  {
   "cell_type": "code",
   "execution_count": 250,
   "metadata": {},
   "outputs": [
    {
     "data": {
      "text/plain": [
       "[tensor([10]), tensor([11])]"
      ]
     },
     "execution_count": 250,
     "metadata": {},
     "output_type": "execute_result"
    }
   ],
   "source": [
    "test_users"
   ]
  },
  {
   "cell_type": "code",
   "execution_count": 251,
   "metadata": {},
   "outputs": [
    {
     "data": {
      "text/plain": [
       "[tensor([820]), tensor([829])]"
      ]
     },
     "execution_count": 251,
     "metadata": {},
     "output_type": "execute_result"
    }
   ],
   "source": [
    "test_items"
   ]
  },
  {
   "cell_type": "code",
   "execution_count": 252,
   "metadata": {},
   "outputs": [
    {
     "data": {
      "text/plain": [
       "[tensor([1859, 3183,  588, 2550, 1107, 1592, 3187, 1206, 2097,  961,   81, 2240,\n",
       "           69,  188, 1338, 1380,  734, 2678, 1113, 2223, 2777, 2984, 1937, 1856,\n",
       "         2055, 1689, 3465, 1194, 3085,  479,  190, 2723, 3064,  232, 2817,  244,\n",
       "         1495, 1125, 2704, 1359,  353, 3065, 3471, 2319, 2843, 1234, 2935,  730,\n",
       "         2933, 1806, 3560, 3441, 3271,  966, 3498, 2946, 1228, 1959, 2709,  421,\n",
       "         1712,  473, 2801, 3462, 3159, 1475, 2865, 2478,  776, 3353,  846, 3695,\n",
       "         1671,  693,  226, 1832, 3167, 2155, 2109,  677, 3051, 3098, 2178,   66,\n",
       "          493, 2806,  618,   82, 1325, 2202, 2635, 1224,  316, 1179, 2552, 3266,\n",
       "          880, 2007, 3389]),\n",
       " tensor([1888, 1652, 3609,  579, 3285, 3682,  801, 3517,  203, 2464,  297, 3006,\n",
       "          132, 3255, 1468, 1691, 2864, 2313, 2024, 3231, 2924,  142,  667, 3061,\n",
       "         3463, 1030, 2797, 3179, 1705,  150, 3147,  810, 2927, 3537, 1477, 1934,\n",
       "          855, 2675, 1685, 3141, 3187, 1466, 1556, 3343, 2482,  763, 1168, 2280,\n",
       "          242, 2334,  194,  851, 3598, 2530,  133,  251,  246, 2876, 2950, 1791,\n",
       "         1395, 3668, 3519,   50, 1501,   73,  399, 2431, 3495, 3676, 1859,  963,\n",
       "          805, 2963, 3486, 1133, 2826, 1079, 2003,  630, 2436, 1386,  319,  879,\n",
       "         3448, 2784, 1773, 2816,  922, 1737, 3443, 1327, 3129,  849, 1052, 1764,\n",
       "          116,  644,  284])]"
      ]
     },
     "execution_count": 252,
     "metadata": {},
     "output_type": "execute_result"
    }
   ],
   "source": [
    "negative_samples"
   ]
  },
  {
   "cell_type": "code",
   "execution_count": 245,
   "metadata": {},
   "outputs": [
    {
     "name": "stdout",
     "output_type": "stream",
     "text": [
      "0\n",
      "tensor([10])\n",
      "1\n",
      "tensor([11])\n"
     ]
    }
   ],
   "source": [
    "for idx, user in enumerate(test_users):\n",
    "    print(idx)\n",
    "    print(user)"
   ]
  },
  {
   "cell_type": "code",
   "execution_count": 260,
   "metadata": {},
   "outputs": [
    {
     "name": "stdout",
     "output_type": "stream",
     "text": [
      "0\n",
      "1\n"
     ]
    }
   ],
   "source": [
    "positive_interactions_users, positive_interactions_items, negative_interactions_users, negative_interactions_items = [], [], [], []\n",
    "for idx, user in enumerate(test_users):\n",
    "    print(idx)\n",
    "    positive_interactions_users.append(user)\n",
    "    positive_interactions_items.append(test_items[idx])\n",
    "    for i in range(len(negative_samples[idx])):\n",
    "        negative_interactions_users.append(user)\n",
    "        negative_interactions_items.append(negative_samples[idx][i])\n",
    "    "
   ]
  },
  {
   "cell_type": "code",
   "execution_count": 261,
   "metadata": {},
   "outputs": [
    {
     "data": {
      "text/plain": [
       "[tensor([10]), tensor([11])]"
      ]
     },
     "execution_count": 261,
     "metadata": {},
     "output_type": "execute_result"
    }
   ],
   "source": [
    "positive_interactions_users"
   ]
  },
  {
   "cell_type": "code",
   "execution_count": 262,
   "metadata": {},
   "outputs": [
    {
     "data": {
      "text/plain": [
       "[tensor([820]), tensor([829])]"
      ]
     },
     "execution_count": 262,
     "metadata": {},
     "output_type": "execute_result"
    }
   ],
   "source": [
    "positive_interactions_items"
   ]
  },
  {
   "cell_type": "code",
   "execution_count": 263,
   "metadata": {},
   "outputs": [
    {
     "data": {
      "text/plain": [
       "[tensor([10]),\n",
       " tensor([10]),\n",
       " tensor([10]),\n",
       " tensor([10]),\n",
       " tensor([10]),\n",
       " tensor([10]),\n",
       " tensor([10]),\n",
       " tensor([10]),\n",
       " tensor([10]),\n",
       " tensor([10]),\n",
       " tensor([10]),\n",
       " tensor([10]),\n",
       " tensor([10]),\n",
       " tensor([10]),\n",
       " tensor([10]),\n",
       " tensor([10]),\n",
       " tensor([10]),\n",
       " tensor([10]),\n",
       " tensor([10]),\n",
       " tensor([10]),\n",
       " tensor([10]),\n",
       " tensor([10]),\n",
       " tensor([10]),\n",
       " tensor([10]),\n",
       " tensor([10]),\n",
       " tensor([10]),\n",
       " tensor([10]),\n",
       " tensor([10]),\n",
       " tensor([10]),\n",
       " tensor([10]),\n",
       " tensor([10]),\n",
       " tensor([10]),\n",
       " tensor([10]),\n",
       " tensor([10]),\n",
       " tensor([10]),\n",
       " tensor([10]),\n",
       " tensor([10]),\n",
       " tensor([10]),\n",
       " tensor([10]),\n",
       " tensor([10]),\n",
       " tensor([10]),\n",
       " tensor([10]),\n",
       " tensor([10]),\n",
       " tensor([10]),\n",
       " tensor([10]),\n",
       " tensor([10]),\n",
       " tensor([10]),\n",
       " tensor([10]),\n",
       " tensor([10]),\n",
       " tensor([10]),\n",
       " tensor([10]),\n",
       " tensor([10]),\n",
       " tensor([10]),\n",
       " tensor([10]),\n",
       " tensor([10]),\n",
       " tensor([10]),\n",
       " tensor([10]),\n",
       " tensor([10]),\n",
       " tensor([10]),\n",
       " tensor([10]),\n",
       " tensor([10]),\n",
       " tensor([10]),\n",
       " tensor([10]),\n",
       " tensor([10]),\n",
       " tensor([10]),\n",
       " tensor([10]),\n",
       " tensor([10]),\n",
       " tensor([10]),\n",
       " tensor([10]),\n",
       " tensor([10]),\n",
       " tensor([10]),\n",
       " tensor([10]),\n",
       " tensor([10]),\n",
       " tensor([10]),\n",
       " tensor([10]),\n",
       " tensor([10]),\n",
       " tensor([10]),\n",
       " tensor([10]),\n",
       " tensor([10]),\n",
       " tensor([10]),\n",
       " tensor([10]),\n",
       " tensor([10]),\n",
       " tensor([10]),\n",
       " tensor([10]),\n",
       " tensor([10]),\n",
       " tensor([10]),\n",
       " tensor([10]),\n",
       " tensor([10]),\n",
       " tensor([10]),\n",
       " tensor([10]),\n",
       " tensor([10]),\n",
       " tensor([10]),\n",
       " tensor([10]),\n",
       " tensor([10]),\n",
       " tensor([10]),\n",
       " tensor([10]),\n",
       " tensor([10]),\n",
       " tensor([10]),\n",
       " tensor([10]),\n",
       " tensor([11]),\n",
       " tensor([11]),\n",
       " tensor([11]),\n",
       " tensor([11]),\n",
       " tensor([11]),\n",
       " tensor([11]),\n",
       " tensor([11]),\n",
       " tensor([11]),\n",
       " tensor([11]),\n",
       " tensor([11]),\n",
       " tensor([11]),\n",
       " tensor([11]),\n",
       " tensor([11]),\n",
       " tensor([11]),\n",
       " tensor([11]),\n",
       " tensor([11]),\n",
       " tensor([11]),\n",
       " tensor([11]),\n",
       " tensor([11]),\n",
       " tensor([11]),\n",
       " tensor([11]),\n",
       " tensor([11]),\n",
       " tensor([11]),\n",
       " tensor([11]),\n",
       " tensor([11]),\n",
       " tensor([11]),\n",
       " tensor([11]),\n",
       " tensor([11]),\n",
       " tensor([11]),\n",
       " tensor([11]),\n",
       " tensor([11]),\n",
       " tensor([11]),\n",
       " tensor([11]),\n",
       " tensor([11]),\n",
       " tensor([11]),\n",
       " tensor([11]),\n",
       " tensor([11]),\n",
       " tensor([11]),\n",
       " tensor([11]),\n",
       " tensor([11]),\n",
       " tensor([11]),\n",
       " tensor([11]),\n",
       " tensor([11]),\n",
       " tensor([11]),\n",
       " tensor([11]),\n",
       " tensor([11]),\n",
       " tensor([11]),\n",
       " tensor([11]),\n",
       " tensor([11]),\n",
       " tensor([11]),\n",
       " tensor([11]),\n",
       " tensor([11]),\n",
       " tensor([11]),\n",
       " tensor([11]),\n",
       " tensor([11]),\n",
       " tensor([11]),\n",
       " tensor([11]),\n",
       " tensor([11]),\n",
       " tensor([11]),\n",
       " tensor([11]),\n",
       " tensor([11]),\n",
       " tensor([11]),\n",
       " tensor([11]),\n",
       " tensor([11]),\n",
       " tensor([11]),\n",
       " tensor([11]),\n",
       " tensor([11]),\n",
       " tensor([11]),\n",
       " tensor([11]),\n",
       " tensor([11]),\n",
       " tensor([11]),\n",
       " tensor([11]),\n",
       " tensor([11]),\n",
       " tensor([11]),\n",
       " tensor([11]),\n",
       " tensor([11]),\n",
       " tensor([11]),\n",
       " tensor([11]),\n",
       " tensor([11]),\n",
       " tensor([11]),\n",
       " tensor([11]),\n",
       " tensor([11]),\n",
       " tensor([11]),\n",
       " tensor([11]),\n",
       " tensor([11]),\n",
       " tensor([11]),\n",
       " tensor([11]),\n",
       " tensor([11]),\n",
       " tensor([11]),\n",
       " tensor([11]),\n",
       " tensor([11]),\n",
       " tensor([11]),\n",
       " tensor([11]),\n",
       " tensor([11]),\n",
       " tensor([11]),\n",
       " tensor([11]),\n",
       " tensor([11]),\n",
       " tensor([11]),\n",
       " tensor([11])]"
      ]
     },
     "execution_count": 263,
     "metadata": {},
     "output_type": "execute_result"
    }
   ],
   "source": [
    "negative_interactions_users"
   ]
  },
  {
   "cell_type": "code",
   "execution_count": 264,
   "metadata": {},
   "outputs": [
    {
     "data": {
      "text/plain": [
       "[tensor(1859),\n",
       " tensor(3183),\n",
       " tensor(588),\n",
       " tensor(2550),\n",
       " tensor(1107),\n",
       " tensor(1592),\n",
       " tensor(3187),\n",
       " tensor(1206),\n",
       " tensor(2097),\n",
       " tensor(961),\n",
       " tensor(81),\n",
       " tensor(2240),\n",
       " tensor(69),\n",
       " tensor(188),\n",
       " tensor(1338),\n",
       " tensor(1380),\n",
       " tensor(734),\n",
       " tensor(2678),\n",
       " tensor(1113),\n",
       " tensor(2223),\n",
       " tensor(2777),\n",
       " tensor(2984),\n",
       " tensor(1937),\n",
       " tensor(1856),\n",
       " tensor(2055),\n",
       " tensor(1689),\n",
       " tensor(3465),\n",
       " tensor(1194),\n",
       " tensor(3085),\n",
       " tensor(479),\n",
       " tensor(190),\n",
       " tensor(2723),\n",
       " tensor(3064),\n",
       " tensor(232),\n",
       " tensor(2817),\n",
       " tensor(244),\n",
       " tensor(1495),\n",
       " tensor(1125),\n",
       " tensor(2704),\n",
       " tensor(1359),\n",
       " tensor(353),\n",
       " tensor(3065),\n",
       " tensor(3471),\n",
       " tensor(2319),\n",
       " tensor(2843),\n",
       " tensor(1234),\n",
       " tensor(2935),\n",
       " tensor(730),\n",
       " tensor(2933),\n",
       " tensor(1806),\n",
       " tensor(3560),\n",
       " tensor(3441),\n",
       " tensor(3271),\n",
       " tensor(966),\n",
       " tensor(3498),\n",
       " tensor(2946),\n",
       " tensor(1228),\n",
       " tensor(1959),\n",
       " tensor(2709),\n",
       " tensor(421),\n",
       " tensor(1712),\n",
       " tensor(473),\n",
       " tensor(2801),\n",
       " tensor(3462),\n",
       " tensor(3159),\n",
       " tensor(1475),\n",
       " tensor(2865),\n",
       " tensor(2478),\n",
       " tensor(776),\n",
       " tensor(3353),\n",
       " tensor(846),\n",
       " tensor(3695),\n",
       " tensor(1671),\n",
       " tensor(693),\n",
       " tensor(226),\n",
       " tensor(1832),\n",
       " tensor(3167),\n",
       " tensor(2155),\n",
       " tensor(2109),\n",
       " tensor(677),\n",
       " tensor(3051),\n",
       " tensor(3098),\n",
       " tensor(2178),\n",
       " tensor(66),\n",
       " tensor(493),\n",
       " tensor(2806),\n",
       " tensor(618),\n",
       " tensor(82),\n",
       " tensor(1325),\n",
       " tensor(2202),\n",
       " tensor(2635),\n",
       " tensor(1224),\n",
       " tensor(316),\n",
       " tensor(1179),\n",
       " tensor(2552),\n",
       " tensor(3266),\n",
       " tensor(880),\n",
       " tensor(2007),\n",
       " tensor(3389),\n",
       " tensor(1888),\n",
       " tensor(1652),\n",
       " tensor(3609),\n",
       " tensor(579),\n",
       " tensor(3285),\n",
       " tensor(3682),\n",
       " tensor(801),\n",
       " tensor(3517),\n",
       " tensor(203),\n",
       " tensor(2464),\n",
       " tensor(297),\n",
       " tensor(3006),\n",
       " tensor(132),\n",
       " tensor(3255),\n",
       " tensor(1468),\n",
       " tensor(1691),\n",
       " tensor(2864),\n",
       " tensor(2313),\n",
       " tensor(2024),\n",
       " tensor(3231),\n",
       " tensor(2924),\n",
       " tensor(142),\n",
       " tensor(667),\n",
       " tensor(3061),\n",
       " tensor(3463),\n",
       " tensor(1030),\n",
       " tensor(2797),\n",
       " tensor(3179),\n",
       " tensor(1705),\n",
       " tensor(150),\n",
       " tensor(3147),\n",
       " tensor(810),\n",
       " tensor(2927),\n",
       " tensor(3537),\n",
       " tensor(1477),\n",
       " tensor(1934),\n",
       " tensor(855),\n",
       " tensor(2675),\n",
       " tensor(1685),\n",
       " tensor(3141),\n",
       " tensor(3187),\n",
       " tensor(1466),\n",
       " tensor(1556),\n",
       " tensor(3343),\n",
       " tensor(2482),\n",
       " tensor(763),\n",
       " tensor(1168),\n",
       " tensor(2280),\n",
       " tensor(242),\n",
       " tensor(2334),\n",
       " tensor(194),\n",
       " tensor(851),\n",
       " tensor(3598),\n",
       " tensor(2530),\n",
       " tensor(133),\n",
       " tensor(251),\n",
       " tensor(246),\n",
       " tensor(2876),\n",
       " tensor(2950),\n",
       " tensor(1791),\n",
       " tensor(1395),\n",
       " tensor(3668),\n",
       " tensor(3519),\n",
       " tensor(50),\n",
       " tensor(1501),\n",
       " tensor(73),\n",
       " tensor(399),\n",
       " tensor(2431),\n",
       " tensor(3495),\n",
       " tensor(3676),\n",
       " tensor(1859),\n",
       " tensor(963),\n",
       " tensor(805),\n",
       " tensor(2963),\n",
       " tensor(3486),\n",
       " tensor(1133),\n",
       " tensor(2826),\n",
       " tensor(1079),\n",
       " tensor(2003),\n",
       " tensor(630),\n",
       " tensor(2436),\n",
       " tensor(1386),\n",
       " tensor(319),\n",
       " tensor(879),\n",
       " tensor(3448),\n",
       " tensor(2784),\n",
       " tensor(1773),\n",
       " tensor(2816),\n",
       " tensor(922),\n",
       " tensor(1737),\n",
       " tensor(3443),\n",
       " tensor(1327),\n",
       " tensor(3129),\n",
       " tensor(849),\n",
       " tensor(1052),\n",
       " tensor(1764),\n",
       " tensor(116),\n",
       " tensor(644),\n",
       " tensor(284)]"
      ]
     },
     "execution_count": 264,
     "metadata": {},
     "output_type": "execute_result"
    }
   ],
   "source": [
    "negative_interactions_items"
   ]
  },
  {
   "cell_type": "code",
   "execution_count": null,
   "metadata": {},
   "outputs": [],
   "source": []
  }
 ],
 "metadata": {
  "kernelspec": {
   "display_name": "Python 3",
   "language": "python",
   "name": "python3"
  },
  "language_info": {
   "codemirror_mode": {
    "name": "ipython",
    "version": 3
   },
   "file_extension": ".py",
   "mimetype": "text/x-python",
   "name": "python",
   "nbconvert_exporter": "python",
   "pygments_lexer": "ipython3",
   "version": "3.6.9"
  }
 },
 "nbformat": 4,
 "nbformat_minor": 4
}
