{
 "cells": [
  {
   "cell_type": "code",
   "execution_count": 1,
   "metadata": {},
   "outputs": [],
   "source": [
    "import torch"
   ]
  },
  {
   "cell_type": "code",
   "execution_count": 16,
   "metadata": {},
   "outputs": [],
   "source": [
    "import pandas as pd\n",
    "import numpy as np\n",
    "\n",
    "from pathlib import Path\n",
    "\n",
    "import logging\n",
    "logging.basicConfig()\n",
    "logger = logging.getLogger(__name__)\n",
    "logger.setLevel(logging.INFO)"
   ]
  },
  {
   "cell_type": "code",
   "execution_count": 8,
   "metadata": {},
   "outputs": [
    {
     "name": "stdout",
     "output_type": "stream",
     "text": [
      "The autoreload extension is already loaded. To reload it, use:\n",
      "  %reload_ext autoreload\n"
     ]
    }
   ],
   "source": [
    "import autoreload\n",
    "%load_ext autoreload\n",
    "%autoreload 2"
   ]
  },
  {
   "cell_type": "code",
   "execution_count": 12,
   "metadata": {},
   "outputs": [],
   "source": [
    "RAW_DATA_FOLDER = Path(\"../data/raw/\")\n",
    "PROCESSED_DATA_FOLDER = Path(\"../data/processed/\")"
   ]
  },
  {
   "cell_type": "code",
   "execution_count": 17,
   "metadata": {},
   "outputs": [],
   "source": [
    "def load_zpls_data(data_dir, MIN_RATINGS=4):\n",
    "    ml_dir = data_dir\n",
    "    sales_df = pd.read_csv(\n",
    "        spain_sales_raw, parse_dates=True, dtype={\"customer_id\": int, \"product_id\": int}\n",
    "    )\n",
    "    sales_df[\"rating\"] = 1.0\n",
    "    sales_df.date = pd.to_datetime(sales_df.date)\n",
    "    sales_df.rename(\n",
    "        columns={\"customer_id\": \"uid\", \"product_id\": \"mid\", \"date\": \"timestamp\"},\n",
    "        inplace=True,\n",
    "    )\n",
    "    df = sales_df\n",
    "\n",
    "    # first let us filter out the users with less than MIN_RATINGS interations\n",
    "    logger.info(\"Filtering out users with less than {} ratings\".format(MIN_RATINGS))\n",
    "    grouped = df.groupby(\"uid\")\n",
    "    df = grouped.filter(lambda x: len(x) >= MIN_RATINGS).copy()\n",
    "\n",
    "    # now let us factoriyze (re-index users)\n",
    "    logger.info(\"Mapping original user and item IDs to new sequential IDs\")\n",
    "    df[\"userId\"] = pd.factorize(df[\"uid\"])[0]\n",
    "    df[\"itemId\"] = pd.factorize(df[\"mid\"])[0]\n",
    "\n",
    "    logger.info(\"Range of userId is [{}, {}]\".format(df.userId.min(), df.userId.max()))\n",
    "    logger.info(\"Range of itemId is [{}, {}]\".format(df.userId.min(), df.itemId.max()))\n",
    "\n",
    "    num_users = len(df[\"userId\"].unique())\n",
    "    num_items = len(df[\"itemId\"].unique())\n",
    "    logger.info(\"num_users is {}, num_items is {}\".format(num_users, num_items))\n",
    "\n",
    "    return df, num_users, num_items\n"
   ]
  },
  {
   "cell_type": "code",
   "execution_count": 18,
   "metadata": {},
   "outputs": [
    {
     "name": "stderr",
     "output_type": "stream",
     "text": [
      "INFO:__main__:Filtering out users with less than 4 ratings\n",
      "INFO:__main__:Mapping original user and item IDs to new sequential IDs\n",
      "INFO:__main__:Range of userId is [0, 204100]\n",
      "INFO:__main__:Range of itemId is [0, 6112]\n",
      "INFO:__main__:num_users is 204101, num_items is 6113\n"
     ]
    }
   ],
   "source": [
    "spain_sales_raw = RAW_DATA_FOLDER / \"spanish_sales.csv\"\n",
    "data, num_users, num_items = load_zpls_data(spain_sales_raw)"
   ]
  },
  {
   "cell_type": "code",
   "execution_count": 19,
   "metadata": {},
   "outputs": [
    {
     "data": {
      "text/html": [
       "<div>\n",
       "<style scoped>\n",
       "    .dataframe tbody tr th:only-of-type {\n",
       "        vertical-align: middle;\n",
       "    }\n",
       "\n",
       "    .dataframe tbody tr th {\n",
       "        vertical-align: top;\n",
       "    }\n",
       "\n",
       "    .dataframe thead th {\n",
       "        text-align: right;\n",
       "    }\n",
       "</style>\n",
       "<table border=\"1\" class=\"dataframe\">\n",
       "  <thead>\n",
       "    <tr style=\"text-align: right;\">\n",
       "      <th></th>\n",
       "      <th>uid</th>\n",
       "      <th>mid</th>\n",
       "      <th>timestamp</th>\n",
       "      <th>rating</th>\n",
       "      <th>userId</th>\n",
       "      <th>itemId</th>\n",
       "    </tr>\n",
       "  </thead>\n",
       "  <tbody>\n",
       "    <tr>\n",
       "      <th>0</th>\n",
       "      <td>9134527</td>\n",
       "      <td>386652</td>\n",
       "      <td>2019-05-06</td>\n",
       "      <td>1.0</td>\n",
       "      <td>0</td>\n",
       "      <td>0</td>\n",
       "    </tr>\n",
       "    <tr>\n",
       "      <th>1</th>\n",
       "      <td>9134527</td>\n",
       "      <td>386652</td>\n",
       "      <td>2019-05-06</td>\n",
       "      <td>1.0</td>\n",
       "      <td>0</td>\n",
       "      <td>0</td>\n",
       "    </tr>\n",
       "    <tr>\n",
       "      <th>2</th>\n",
       "      <td>9134527</td>\n",
       "      <td>464466</td>\n",
       "      <td>2019-05-06</td>\n",
       "      <td>1.0</td>\n",
       "      <td>0</td>\n",
       "      <td>1</td>\n",
       "    </tr>\n",
       "    <tr>\n",
       "      <th>3</th>\n",
       "      <td>9134527</td>\n",
       "      <td>55815</td>\n",
       "      <td>2019-05-06</td>\n",
       "      <td>1.0</td>\n",
       "      <td>0</td>\n",
       "      <td>2</td>\n",
       "    </tr>\n",
       "    <tr>\n",
       "      <th>4</th>\n",
       "      <td>9134527</td>\n",
       "      <td>55815</td>\n",
       "      <td>2019-05-06</td>\n",
       "      <td>1.0</td>\n",
       "      <td>0</td>\n",
       "      <td>2</td>\n",
       "    </tr>\n",
       "  </tbody>\n",
       "</table>\n",
       "</div>"
      ],
      "text/plain": [
       "       uid     mid  timestamp  rating  userId  itemId\n",
       "0  9134527  386652 2019-05-06     1.0       0       0\n",
       "1  9134527  386652 2019-05-06     1.0       0       0\n",
       "2  9134527  464466 2019-05-06     1.0       0       1\n",
       "3  9134527   55815 2019-05-06     1.0       0       2\n",
       "4  9134527   55815 2019-05-06     1.0       0       2"
      ]
     },
     "execution_count": 19,
     "metadata": {},
     "output_type": "execute_result"
    }
   ],
   "source": [
    "data.head()"
   ]
  },
  {
   "cell_type": "code",
   "execution_count": 20,
   "metadata": {},
   "outputs": [],
   "source": [
    "from torch.utils.data import DataLoader, Dataset"
   ]
  },
  {
   "cell_type": "code",
   "execution_count": 22,
   "metadata": {},
   "outputs": [],
   "source": [
    "class TrainDataset(Dataset):\n",
    "    def __init__(self):\n",
    "        pass\n",
    "    \n",
    "    def __getitem(self, index):\n",
    "        pass\n",
    "    \n",
    "    def __len__(self):\n",
    "        pass"
   ]
  },
  {
   "cell_type": "code",
   "execution_count": 23,
   "metadata": {},
   "outputs": [],
   "source": [
    "class SampleTrainGenerator:\n",
    "    def __init__(self,ratings):\n",
    "        pass"
   ]
  },
  {
   "cell_type": "code",
   "execution_count": null,
   "metadata": {},
   "outputs": [],
   "source": []
  }
 ],
 "metadata": {
  "kernelspec": {
   "display_name": "Python 3.6.9 64-bit ('base': conda)",
   "language": "python",
   "name": "python36964bitbaseconda07d0f14d907345dbbbbdfdca3ff8047b"
  },
  "language_info": {
   "codemirror_mode": {
    "name": "ipython",
    "version": 3
   },
   "file_extension": ".py",
   "mimetype": "text/x-python",
   "name": "python",
   "nbconvert_exporter": "python",
   "pygments_lexer": "ipython3",
   "version": "3.6.9"
  }
 },
 "nbformat": 4,
 "nbformat_minor": 4
}
