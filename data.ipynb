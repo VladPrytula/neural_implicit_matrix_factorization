{
 "cells": [
  {
   "cell_type": "code",
   "execution_count": 1,
   "metadata": {},
   "outputs": [],
   "source": [
    "import torch\n",
    "from copy import deepcopy\n",
    "import random\n",
    "import pandas as pd\n",
    "import numpy as np\n",
    "from torch.utils.data import DataLoader, Dataset"
   ]
  },
  {
   "cell_type": "code",
   "execution_count": 2,
   "metadata": {},
   "outputs": [
    {
     "data": {
      "text/plain": [
       "True"
      ]
     },
     "execution_count": 2,
     "metadata": {},
     "output_type": "execute_result"
    }
   ],
   "source": [
    "torch.cuda.is_available()"
   ]
  },
  {
   "cell_type": "code",
   "execution_count": 3,
   "metadata": {},
   "outputs": [
    {
     "name": "stdout",
     "output_type": "stream",
     "text": [
      "README\tmovies.dat  ratings.dat  users.dat\r\n"
     ]
    }
   ],
   "source": [
    "!ls /data/ml-1m/"
   ]
  },
  {
   "cell_type": "markdown",
   "metadata": {},
   "source": [
    "Load dataset"
   ]
  },
  {
   "cell_type": "code",
   "execution_count": 4,
   "metadata": {},
   "outputs": [],
   "source": [
    "MIN_RATINGS = 20"
   ]
  },
  {
   "cell_type": "code",
   "execution_count": 6,
   "metadata": {},
   "outputs": [],
   "source": [
    "# Load Data\n",
    "ml1m_dir = '/data/ml-1m/ratings.dat'\n",
    "ml1m_rating = pd.read_csv(ml1m_dir, sep='::', \n",
    "                          header=None, \n",
    "                          names=['uid', 'mid', 'rating', 'timestamp'],  \n",
    "                          engine='python')"
   ]
  },
  {
   "cell_type": "markdown",
   "metadata": {},
   "source": [
    "**This way is better**"
   ]
  },
  {
   "cell_type": "code",
   "execution_count": 7,
   "metadata": {},
   "outputs": [],
   "source": [
    "df = pd.read_csv(ml1m_dir, sep='::', \n",
    "                          header=None, \n",
    "                          names=['uid', 'mid', 'rating', 'timestamp'],  \n",
    "                          engine='python')"
   ]
  },
  {
   "cell_type": "code",
   "execution_count": 8,
   "metadata": {},
   "outputs": [
    {
     "name": "stdout",
     "output_type": "stream",
     "text": [
      "Filtering out users with less than 20 ratings\n"
     ]
    }
   ],
   "source": [
    "print(\"Filtering out users with less than {} ratings\".format(MIN_RATINGS))\n",
    "grouped = df.groupby('uid')\n",
    "df = grouped.filter(lambda x: len(x) >= MIN_RATINGS)"
   ]
  },
  {
   "cell_type": "code",
   "execution_count": 9,
   "metadata": {},
   "outputs": [
    {
     "name": "stdout",
     "output_type": "stream",
     "text": [
      "Mapping original user and item IDs to new sequential IDs\n"
     ]
    }
   ],
   "source": [
    "print(\"Mapping original user and item IDs to new sequential IDs\")\n",
    "df['userId'] = pd.factorize(df['uid'])[0]\n",
    "df['itemId'] = pd.factorize(df['mid'])[0]"
   ]
  },
  {
   "cell_type": "code",
   "execution_count": 10,
   "metadata": {},
   "outputs": [
    {
     "data": {
      "text/html": [
       "<div>\n",
       "<style scoped>\n",
       "    .dataframe tbody tr th:only-of-type {\n",
       "        vertical-align: middle;\n",
       "    }\n",
       "\n",
       "    .dataframe tbody tr th {\n",
       "        vertical-align: top;\n",
       "    }\n",
       "\n",
       "    .dataframe thead th {\n",
       "        text-align: right;\n",
       "    }\n",
       "</style>\n",
       "<table border=\"1\" class=\"dataframe\">\n",
       "  <thead>\n",
       "    <tr style=\"text-align: right;\">\n",
       "      <th></th>\n",
       "      <th>uid</th>\n",
       "      <th>mid</th>\n",
       "      <th>rating</th>\n",
       "      <th>timestamp</th>\n",
       "      <th>userId</th>\n",
       "      <th>itemId</th>\n",
       "    </tr>\n",
       "  </thead>\n",
       "  <tbody>\n",
       "    <tr>\n",
       "      <th>0</th>\n",
       "      <td>1</td>\n",
       "      <td>1193</td>\n",
       "      <td>5</td>\n",
       "      <td>978300760</td>\n",
       "      <td>0</td>\n",
       "      <td>0</td>\n",
       "    </tr>\n",
       "    <tr>\n",
       "      <th>1</th>\n",
       "      <td>1</td>\n",
       "      <td>661</td>\n",
       "      <td>3</td>\n",
       "      <td>978302109</td>\n",
       "      <td>0</td>\n",
       "      <td>1</td>\n",
       "    </tr>\n",
       "    <tr>\n",
       "      <th>2</th>\n",
       "      <td>1</td>\n",
       "      <td>914</td>\n",
       "      <td>3</td>\n",
       "      <td>978301968</td>\n",
       "      <td>0</td>\n",
       "      <td>2</td>\n",
       "    </tr>\n",
       "    <tr>\n",
       "      <th>3</th>\n",
       "      <td>1</td>\n",
       "      <td>3408</td>\n",
       "      <td>4</td>\n",
       "      <td>978300275</td>\n",
       "      <td>0</td>\n",
       "      <td>3</td>\n",
       "    </tr>\n",
       "    <tr>\n",
       "      <th>4</th>\n",
       "      <td>1</td>\n",
       "      <td>2355</td>\n",
       "      <td>5</td>\n",
       "      <td>978824291</td>\n",
       "      <td>0</td>\n",
       "      <td>4</td>\n",
       "    </tr>\n",
       "    <tr>\n",
       "      <th>5</th>\n",
       "      <td>1</td>\n",
       "      <td>1197</td>\n",
       "      <td>3</td>\n",
       "      <td>978302268</td>\n",
       "      <td>0</td>\n",
       "      <td>5</td>\n",
       "    </tr>\n",
       "    <tr>\n",
       "      <th>6</th>\n",
       "      <td>1</td>\n",
       "      <td>1287</td>\n",
       "      <td>5</td>\n",
       "      <td>978302039</td>\n",
       "      <td>0</td>\n",
       "      <td>6</td>\n",
       "    </tr>\n",
       "    <tr>\n",
       "      <th>7</th>\n",
       "      <td>1</td>\n",
       "      <td>2804</td>\n",
       "      <td>5</td>\n",
       "      <td>978300719</td>\n",
       "      <td>0</td>\n",
       "      <td>7</td>\n",
       "    </tr>\n",
       "    <tr>\n",
       "      <th>8</th>\n",
       "      <td>1</td>\n",
       "      <td>594</td>\n",
       "      <td>4</td>\n",
       "      <td>978302268</td>\n",
       "      <td>0</td>\n",
       "      <td>8</td>\n",
       "    </tr>\n",
       "    <tr>\n",
       "      <th>9</th>\n",
       "      <td>1</td>\n",
       "      <td>919</td>\n",
       "      <td>4</td>\n",
       "      <td>978301368</td>\n",
       "      <td>0</td>\n",
       "      <td>9</td>\n",
       "    </tr>\n",
       "  </tbody>\n",
       "</table>\n",
       "</div>"
      ],
      "text/plain": [
       "   uid   mid  rating  timestamp  userId  itemId\n",
       "0    1  1193       5  978300760       0       0\n",
       "1    1   661       3  978302109       0       1\n",
       "2    1   914       3  978301968       0       2\n",
       "3    1  3408       4  978300275       0       3\n",
       "4    1  2355       5  978824291       0       4\n",
       "5    1  1197       3  978302268       0       5\n",
       "6    1  1287       5  978302039       0       6\n",
       "7    1  2804       5  978300719       0       7\n",
       "8    1   594       4  978302268       0       8\n",
       "9    1   919       4  978301368       0       9"
      ]
     },
     "execution_count": 10,
     "metadata": {},
     "output_type": "execute_result"
    }
   ],
   "source": [
    "df.head(10)"
   ]
  },
  {
   "cell_type": "code",
   "execution_count": 11,
   "metadata": {},
   "outputs": [
    {
     "name": "stdout",
     "output_type": "stream",
     "text": [
      "Range of userId is [0, 6039]\n",
      "Range of itemId is [0, 3705]\n"
     ]
    }
   ],
   "source": [
    "print('Range of userId is [{}, {}]'.format(df.userId.min(), df.userId.max()))\n",
    "print('Range of itemId is [{}, {}]'.format(df.userId.min(), df.itemId.max()))"
   ]
  },
  {
   "cell_type": "markdown",
   "metadata": {},
   "source": [
    "Yep, definitely the _factorize_ method is better"
   ]
  },
  {
   "cell_type": "code",
   "execution_count": 12,
   "metadata": {},
   "outputs": [],
   "source": [
    "class UserItemRatingDataset(Dataset):\n",
    "    def __init__(self, user_tensor, item_tensor, target_tensor):\n",
    "        \"\"\"\n",
    "        args:\n",
    "            target_tensor: torch.Tensor that corresponds to (user, item) pair\n",
    "        \"\"\"\n",
    "        self.user_tensor = user_tensor\n",
    "        self.item_tensor = item_tensor\n",
    "        self.target_tensor = target_tensor\n",
    "        \n",
    "    def __getitem__(self, index):\n",
    "        \"\"\"\n",
    "        Map-style datasets https://pytorch.org/docs/stable/data.html#map-style-datasets\n",
    "        \"\"\"\n",
    "        return self.user_tensor[index], self.item_tensor[index], self.target_tensor[index]\n",
    "    \n",
    "    def __len__(self):\n",
    "        return self.user_tensor.size(0)"
   ]
  },
  {
   "cell_type": "markdown",
   "metadata": {},
   "source": [
    "Befor summarizing processing steps into the generator class let us do some exploratory things"
   ]
  },
  {
   "cell_type": "markdown",
   "metadata": {},
   "source": [
    "Sampling negative"
   ]
  },
  {
   "cell_type": "code",
   "execution_count": 12,
   "metadata": {
    "scrolled": true
   },
   "outputs": [],
   "source": [
    "item_pool = set(df['itemId'].unique())\n",
    "\"\"\"return all negative items & 100 sampled negative items\"\"\"\n",
    "interact_status = df.groupby('userId')['itemId'].apply(set).reset_index().rename(\n",
    "    columns={'itemId': 'interacted_items'})\n",
    "interact_status['negative_items'] = interact_status['interacted_items'].apply(lambda x: item_pool - x)\n",
    "interact_status['negative_samples'] = interact_status['negative_items'].apply(lambda x: random.sample(x, 99))\n",
    "#interact_status[['userId', 'negative_items', 'negative_samples']]"
   ]
  },
  {
   "cell_type": "code",
   "execution_count": 13,
   "metadata": {},
   "outputs": [
    {
     "data": {
      "text/html": [
       "<div>\n",
       "<style scoped>\n",
       "    .dataframe tbody tr th:only-of-type {\n",
       "        vertical-align: middle;\n",
       "    }\n",
       "\n",
       "    .dataframe tbody tr th {\n",
       "        vertical-align: top;\n",
       "    }\n",
       "\n",
       "    .dataframe thead th {\n",
       "        text-align: right;\n",
       "    }\n",
       "</style>\n",
       "<table border=\"1\" class=\"dataframe\">\n",
       "  <thead>\n",
       "    <tr style=\"text-align: right;\">\n",
       "      <th></th>\n",
       "      <th>userId</th>\n",
       "      <th>interacted_items</th>\n",
       "      <th>negative_items</th>\n",
       "      <th>negative_samples</th>\n",
       "    </tr>\n",
       "  </thead>\n",
       "  <tbody>\n",
       "    <tr>\n",
       "      <th>0</th>\n",
       "      <td>0</td>\n",
       "      <td>{0, 1, 2, 3, 4, 5, 6, 7, 8, 9, 10, 11, 12, 13,...</td>\n",
       "      <td>{53, 54, 55, 56, 57, 58, 59, 60, 61, 62, 63, 6...</td>\n",
       "      <td>[518, 1566, 1743, 1278, 2949, 3301, 796, 1878,...</td>\n",
       "    </tr>\n",
       "    <tr>\n",
       "      <th>1</th>\n",
       "      <td>1</td>\n",
       "      <td>{0, 18, 20, 42, 47, 48, 52, 53, 54, 55, 56, 57...</td>\n",
       "      <td>{1, 2, 3, 4, 5, 6, 7, 8, 9, 10, 11, 12, 13, 14...</td>\n",
       "      <td>[3442, 1758, 1747, 2214, 3648, 1925, 1068, 189...</td>\n",
       "    </tr>\n",
       "    <tr>\n",
       "      <th>2</th>\n",
       "      <td>2</td>\n",
       "      <td>{128, 4, 5, 22, 166, 168, 41, 44, 175, 176, 17...</td>\n",
       "      <td>{0, 1, 2, 3, 6, 7, 8, 9, 10, 11, 12, 13, 14, 1...</td>\n",
       "      <td>[3464, 2317, 3578, 2393, 1348, 3628, 479, 1926...</td>\n",
       "    </tr>\n",
       "    <tr>\n",
       "      <th>3</th>\n",
       "      <td>3</td>\n",
       "      <td>{139, 26, 156, 43, 44, 48, 63, 64, 208, 209, 2...</td>\n",
       "      <td>{0, 1, 2, 3, 4, 5, 6, 7, 8, 9, 10, 11, 12, 13,...</td>\n",
       "      <td>[1193, 1057, 2438, 1439, 2172, 106, 1341, 1668...</td>\n",
       "    </tr>\n",
       "    <tr>\n",
       "      <th>4</th>\n",
       "      <td>4</td>\n",
       "      <td>{3, 4, 9, 18, 27, 38, 39, 43, 48, 51, 59, 62, ...</td>\n",
       "      <td>{0, 1, 2, 5, 6, 7, 8, 10, 11, 12, 13, 14, 15, ...</td>\n",
       "      <td>[3127, 2867, 2090, 3154, 3625, 572, 3565, 3353...</td>\n",
       "    </tr>\n",
       "  </tbody>\n",
       "</table>\n",
       "</div>"
      ],
      "text/plain": [
       "   userId                                   interacted_items  \\\n",
       "0       0  {0, 1, 2, 3, 4, 5, 6, 7, 8, 9, 10, 11, 12, 13,...   \n",
       "1       1  {0, 18, 20, 42, 47, 48, 52, 53, 54, 55, 56, 57...   \n",
       "2       2  {128, 4, 5, 22, 166, 168, 41, 44, 175, 176, 17...   \n",
       "3       3  {139, 26, 156, 43, 44, 48, 63, 64, 208, 209, 2...   \n",
       "4       4  {3, 4, 9, 18, 27, 38, 39, 43, 48, 51, 59, 62, ...   \n",
       "\n",
       "                                      negative_items  \\\n",
       "0  {53, 54, 55, 56, 57, 58, 59, 60, 61, 62, 63, 6...   \n",
       "1  {1, 2, 3, 4, 5, 6, 7, 8, 9, 10, 11, 12, 13, 14...   \n",
       "2  {0, 1, 2, 3, 6, 7, 8, 9, 10, 11, 12, 13, 14, 1...   \n",
       "3  {0, 1, 2, 3, 4, 5, 6, 7, 8, 9, 10, 11, 12, 13,...   \n",
       "4  {0, 1, 2, 5, 6, 7, 8, 10, 11, 12, 13, 14, 15, ...   \n",
       "\n",
       "                                    negative_samples  \n",
       "0  [518, 1566, 1743, 1278, 2949, 3301, 796, 1878,...  \n",
       "1  [3442, 1758, 1747, 2214, 3648, 1925, 1068, 189...  \n",
       "2  [3464, 2317, 3578, 2393, 1348, 3628, 479, 1926...  \n",
       "3  [1193, 1057, 2438, 1439, 2172, 106, 1341, 1668...  \n",
       "4  [3127, 2867, 2090, 3154, 3625, 572, 3565, 3353...  "
      ]
     },
     "execution_count": 13,
     "metadata": {},
     "output_type": "execute_result"
    }
   ],
   "source": [
    "interact_status.head()"
   ]
  },
  {
   "cell_type": "markdown",
   "metadata": {},
   "source": [
    "Leave one (last in time) out for testing purposes"
   ]
  },
  {
   "cell_type": "code",
   "execution_count": 14,
   "metadata": {
    "scrolled": true
   },
   "outputs": [],
   "source": [
    "#df.groupby(['userId'])['timestamp'].rank(method='first', ascending=False)"
   ]
  },
  {
   "cell_type": "code",
   "execution_count": 15,
   "metadata": {},
   "outputs": [],
   "source": [
    "# \"\"\"leave one out train/test split \"\"\"\n",
    "# df['rank_latest'] = df.groupby(['userId'])['timestamp'].rank(method='first', ascending=False)\n",
    "# test = df[ratings['rank_latest'] == 1]\n",
    "# train = df[ratings['rank_latest'] > 1]\n",
    "# assert train['userId'].nunique() == test['userId'].nunique()\n",
    "# return train[['userId', 'itemId', 'rating']], test[['userId', 'itemId', 'rating']]"
   ]
  },
  {
   "cell_type": "markdown",
   "metadata": {},
   "source": [
    "### Preparation of epoch data"
   ]
  },
  {
   "cell_type": "code",
   "execution_count": 16,
   "metadata": {},
   "outputs": [
    {
     "data": {
      "text/html": [
       "<div>\n",
       "<style scoped>\n",
       "    .dataframe tbody tr th:only-of-type {\n",
       "        vertical-align: middle;\n",
       "    }\n",
       "\n",
       "    .dataframe tbody tr th {\n",
       "        vertical-align: top;\n",
       "    }\n",
       "\n",
       "    .dataframe thead th {\n",
       "        text-align: right;\n",
       "    }\n",
       "</style>\n",
       "<table border=\"1\" class=\"dataframe\">\n",
       "  <thead>\n",
       "    <tr style=\"text-align: right;\">\n",
       "      <th></th>\n",
       "      <th>uid</th>\n",
       "      <th>mid</th>\n",
       "      <th>rating</th>\n",
       "      <th>timestamp</th>\n",
       "      <th>userId</th>\n",
       "      <th>itemId</th>\n",
       "    </tr>\n",
       "  </thead>\n",
       "  <tbody>\n",
       "    <tr>\n",
       "      <th>0</th>\n",
       "      <td>1</td>\n",
       "      <td>1193</td>\n",
       "      <td>5</td>\n",
       "      <td>978300760</td>\n",
       "      <td>0</td>\n",
       "      <td>0</td>\n",
       "    </tr>\n",
       "    <tr>\n",
       "      <th>1</th>\n",
       "      <td>1</td>\n",
       "      <td>661</td>\n",
       "      <td>3</td>\n",
       "      <td>978302109</td>\n",
       "      <td>0</td>\n",
       "      <td>1</td>\n",
       "    </tr>\n",
       "    <tr>\n",
       "      <th>2</th>\n",
       "      <td>1</td>\n",
       "      <td>914</td>\n",
       "      <td>3</td>\n",
       "      <td>978301968</td>\n",
       "      <td>0</td>\n",
       "      <td>2</td>\n",
       "    </tr>\n",
       "    <tr>\n",
       "      <th>3</th>\n",
       "      <td>1</td>\n",
       "      <td>3408</td>\n",
       "      <td>4</td>\n",
       "      <td>978300275</td>\n",
       "      <td>0</td>\n",
       "      <td>3</td>\n",
       "    </tr>\n",
       "    <tr>\n",
       "      <th>4</th>\n",
       "      <td>1</td>\n",
       "      <td>2355</td>\n",
       "      <td>5</td>\n",
       "      <td>978824291</td>\n",
       "      <td>0</td>\n",
       "      <td>4</td>\n",
       "    </tr>\n",
       "  </tbody>\n",
       "</table>\n",
       "</div>"
      ],
      "text/plain": [
       "   uid   mid  rating  timestamp  userId  itemId\n",
       "0    1  1193       5  978300760       0       0\n",
       "1    1   661       3  978302109       0       1\n",
       "2    1   914       3  978301968       0       2\n",
       "3    1  3408       4  978300275       0       3\n",
       "4    1  2355       5  978824291       0       4"
      ]
     },
     "execution_count": 16,
     "metadata": {},
     "output_type": "execute_result"
    }
   ],
   "source": [
    "df.head()"
   ]
  },
  {
   "cell_type": "code",
   "execution_count": 17,
   "metadata": {},
   "outputs": [],
   "source": [
    "def binarize(ratings):\n",
    "    \"\"\"binarize into 0 or 1, imlicit feedback\"\"\"\n",
    "    ratings = deepcopy(ratings)\n",
    "    ratings['rating'][ratings['rating'] > 0] = 1.0\n",
    "    return ratings      \n",
    "\n",
    "def sample_negative(ratings, item_pool):\n",
    "    \"\"\"return all negative items & 100 sampled negative items\"\"\"\n",
    "    interact_status = ratings.groupby('userId')['itemId'].apply(set).reset_index().rename(\n",
    "        columns={'itemId': 'interacted_items'})\n",
    "    interact_status['negative_items'] = interact_status['interacted_items'].apply(lambda x: item_pool - x)\n",
    "    interact_status['negative_samples'] = interact_status['negative_items'].apply(lambda x: random.sample(x, 99))\n",
    "    return interact_status[['userId', 'negative_items', 'negative_samples']]\n",
    "\n",
    "\n",
    "def leave_last_out(ratings):\n",
    "    \"\"\"leave one out train/test split \"\"\"\n",
    "    ratings['rank_latest'] = ratings.groupby(['userId'])['timestamp'].rank(method='first', ascending=False)\n",
    "    test = ratings[ratings['rank_latest'] == 1]\n",
    "    train = ratings[ratings['rank_latest'] > 1]\n",
    "    assert train['userId'].nunique() == test['userId'].nunique()\n",
    "    return train[['userId', 'itemId', 'rating']], test[['userId', 'itemId', 'rating']]"
   ]
  },
  {
   "cell_type": "code",
   "execution_count": 18,
   "metadata": {},
   "outputs": [],
   "source": [
    "preprocess_ratings = binarize(df)\n",
    "user_pool = set(df['userId'].unique())\n",
    "item_pool = set(df['itemId'].unique())\n",
    "\n",
    "negatives = sample_negative(df, item_pool)\n",
    "\n",
    "train_ratings, test_ratings = leave_last_out(preprocess_ratings)"
   ]
  },
  {
   "cell_type": "code",
   "execution_count": 19,
   "metadata": {},
   "outputs": [
    {
     "data": {
      "text/html": [
       "<div>\n",
       "<style scoped>\n",
       "    .dataframe tbody tr th:only-of-type {\n",
       "        vertical-align: middle;\n",
       "    }\n",
       "\n",
       "    .dataframe tbody tr th {\n",
       "        vertical-align: top;\n",
       "    }\n",
       "\n",
       "    .dataframe thead th {\n",
       "        text-align: right;\n",
       "    }\n",
       "</style>\n",
       "<table border=\"1\" class=\"dataframe\">\n",
       "  <thead>\n",
       "    <tr style=\"text-align: right;\">\n",
       "      <th></th>\n",
       "      <th>userId</th>\n",
       "      <th>negative_items</th>\n",
       "      <th>negative_samples</th>\n",
       "    </tr>\n",
       "  </thead>\n",
       "  <tbody>\n",
       "    <tr>\n",
       "      <th>0</th>\n",
       "      <td>0</td>\n",
       "      <td>{53, 54, 55, 56, 57, 58, 59, 60, 61, 62, 63, 6...</td>\n",
       "      <td>[269, 1121, 452, 1086, 751, 3705, 1781, 3483, ...</td>\n",
       "    </tr>\n",
       "    <tr>\n",
       "      <th>1</th>\n",
       "      <td>1</td>\n",
       "      <td>{1, 2, 3, 4, 5, 6, 7, 8, 9, 10, 11, 12, 13, 14...</td>\n",
       "      <td>[1749, 1959, 2916, 559, 3094, 1149, 2663, 414,...</td>\n",
       "    </tr>\n",
       "    <tr>\n",
       "      <th>2</th>\n",
       "      <td>2</td>\n",
       "      <td>{0, 1, 2, 3, 6, 7, 8, 9, 10, 11, 12, 13, 14, 1...</td>\n",
       "      <td>[991, 304, 2428, 1051, 2243, 75, 2436, 3262, 1...</td>\n",
       "    </tr>\n",
       "    <tr>\n",
       "      <th>3</th>\n",
       "      <td>3</td>\n",
       "      <td>{0, 1, 2, 3, 4, 5, 6, 7, 8, 9, 10, 11, 12, 13,...</td>\n",
       "      <td>[3242, 98, 1727, 986, 3648, 1326, 676, 2817, 2...</td>\n",
       "    </tr>\n",
       "    <tr>\n",
       "      <th>4</th>\n",
       "      <td>4</td>\n",
       "      <td>{0, 1, 2, 5, 6, 7, 8, 10, 11, 12, 13, 14, 15, ...</td>\n",
       "      <td>[1456, 2161, 3585, 2943, 3584, 2553, 2842, 127...</td>\n",
       "    </tr>\n",
       "  </tbody>\n",
       "</table>\n",
       "</div>"
      ],
      "text/plain": [
       "   userId                                     negative_items  \\\n",
       "0       0  {53, 54, 55, 56, 57, 58, 59, 60, 61, 62, 63, 6...   \n",
       "1       1  {1, 2, 3, 4, 5, 6, 7, 8, 9, 10, 11, 12, 13, 14...   \n",
       "2       2  {0, 1, 2, 3, 6, 7, 8, 9, 10, 11, 12, 13, 14, 1...   \n",
       "3       3  {0, 1, 2, 3, 4, 5, 6, 7, 8, 9, 10, 11, 12, 13,...   \n",
       "4       4  {0, 1, 2, 5, 6, 7, 8, 10, 11, 12, 13, 14, 15, ...   \n",
       "\n",
       "                                    negative_samples  \n",
       "0  [269, 1121, 452, 1086, 751, 3705, 1781, 3483, ...  \n",
       "1  [1749, 1959, 2916, 559, 3094, 1149, 2663, 414,...  \n",
       "2  [991, 304, 2428, 1051, 2243, 75, 2436, 3262, 1...  \n",
       "3  [3242, 98, 1727, 986, 3648, 1326, 676, 2817, 2...  \n",
       "4  [1456, 2161, 3585, 2943, 3584, 2553, 2842, 127...  "
      ]
     },
     "execution_count": 19,
     "metadata": {},
     "output_type": "execute_result"
    }
   ],
   "source": [
    "negatives.head()"
   ]
  },
  {
   "cell_type": "code",
   "execution_count": 20,
   "metadata": {},
   "outputs": [],
   "source": [
    "train_with_negatives = pd.merge(train_ratings, negatives[['userId', 'negative_items']], on='userId')"
   ]
  },
  {
   "cell_type": "code",
   "execution_count": 27,
   "metadata": {},
   "outputs": [
    {
     "data": {
      "text/html": [
       "<div>\n",
       "<style scoped>\n",
       "    .dataframe tbody tr th:only-of-type {\n",
       "        vertical-align: middle;\n",
       "    }\n",
       "\n",
       "    .dataframe tbody tr th {\n",
       "        vertical-align: top;\n",
       "    }\n",
       "\n",
       "    .dataframe thead th {\n",
       "        text-align: right;\n",
       "    }\n",
       "</style>\n",
       "<table border=\"1\" class=\"dataframe\">\n",
       "  <thead>\n",
       "    <tr style=\"text-align: right;\">\n",
       "      <th></th>\n",
       "      <th>userId</th>\n",
       "      <th>itemId</th>\n",
       "      <th>rating</th>\n",
       "      <th>negative_items</th>\n",
       "      <th>epoch_sampled_negatives</th>\n",
       "    </tr>\n",
       "  </thead>\n",
       "  <tbody>\n",
       "    <tr>\n",
       "      <th>0</th>\n",
       "      <td>0</td>\n",
       "      <td>0</td>\n",
       "      <td>1</td>\n",
       "      <td>{53, 54, 55, 56, 57, 58, 59, 60, 61, 62, 63, 6...</td>\n",
       "      <td>[1970, 3524, 3230, 1539]</td>\n",
       "    </tr>\n",
       "    <tr>\n",
       "      <th>1</th>\n",
       "      <td>0</td>\n",
       "      <td>1</td>\n",
       "      <td>1</td>\n",
       "      <td>{53, 54, 55, 56, 57, 58, 59, 60, 61, 62, 63, 6...</td>\n",
       "      <td>[69, 918, 3291, 1995]</td>\n",
       "    </tr>\n",
       "    <tr>\n",
       "      <th>2</th>\n",
       "      <td>0</td>\n",
       "      <td>2</td>\n",
       "      <td>1</td>\n",
       "      <td>{53, 54, 55, 56, 57, 58, 59, 60, 61, 62, 63, 6...</td>\n",
       "      <td>[1248, 234, 602, 637]</td>\n",
       "    </tr>\n",
       "    <tr>\n",
       "      <th>3</th>\n",
       "      <td>0</td>\n",
       "      <td>3</td>\n",
       "      <td>1</td>\n",
       "      <td>{53, 54, 55, 56, 57, 58, 59, 60, 61, 62, 63, 6...</td>\n",
       "      <td>[2862, 3052, 3617, 3249]</td>\n",
       "    </tr>\n",
       "    <tr>\n",
       "      <th>4</th>\n",
       "      <td>0</td>\n",
       "      <td>4</td>\n",
       "      <td>1</td>\n",
       "      <td>{53, 54, 55, 56, 57, 58, 59, 60, 61, 62, 63, 6...</td>\n",
       "      <td>[340, 2144, 1216, 1914]</td>\n",
       "    </tr>\n",
       "  </tbody>\n",
       "</table>\n",
       "</div>"
      ],
      "text/plain": [
       "   userId  itemId  rating                                     negative_items  \\\n",
       "0       0       0       1  {53, 54, 55, 56, 57, 58, 59, 60, 61, 62, 63, 6...   \n",
       "1       0       1       1  {53, 54, 55, 56, 57, 58, 59, 60, 61, 62, 63, 6...   \n",
       "2       0       2       1  {53, 54, 55, 56, 57, 58, 59, 60, 61, 62, 63, 6...   \n",
       "3       0       3       1  {53, 54, 55, 56, 57, 58, 59, 60, 61, 62, 63, 6...   \n",
       "4       0       4       1  {53, 54, 55, 56, 57, 58, 59, 60, 61, 62, 63, 6...   \n",
       "\n",
       "    epoch_sampled_negatives  \n",
       "0  [1970, 3524, 3230, 1539]  \n",
       "1     [69, 918, 3291, 1995]  \n",
       "2     [1248, 234, 602, 637]  \n",
       "3  [2862, 3052, 3617, 3249]  \n",
       "4   [340, 2144, 1216, 1914]  "
      ]
     },
     "execution_count": 27,
     "metadata": {},
     "output_type": "execute_result"
    }
   ],
   "source": [
    "train_with_negatives.head()"
   ]
  },
  {
   "cell_type": "code",
   "execution_count": 22,
   "metadata": {},
   "outputs": [
    {
     "name": "stdout",
     "output_type": "stream",
     "text": [
      "Collecting pandarallel\n",
      "  Downloading pandarallel-1.4.8.tar.gz (14 kB)\n",
      "Requirement already satisfied: dill in /opt/conda/lib/python3.6/site-packages (from pandarallel) (0.2.9)\n",
      "Building wheels for collected packages: pandarallel\n",
      "  Building wheel for pandarallel (setup.py) ... \u001b[?25ldone\n",
      "\u001b[?25h  Created wheel for pandarallel: filename=pandarallel-1.4.8-py3-none-any.whl size=16111 sha256=4c73543447ecf8b73ab41c7a2b8c6bc69923ca03e3c6fa59a9606c9366bd7133\n",
      "  Stored in directory: /root/.cache/pip/wheels/e9/46/8f/698a358b97ccf5efe84a301297dbf98b19207ff527e0f2512e\n",
      "Successfully built pandarallel\n",
      "Installing collected packages: pandarallel\n",
      "Successfully installed pandarallel-1.4.8\n"
     ]
    }
   ],
   "source": [
    "!pip install pandarallel"
   ]
  },
  {
   "cell_type": "code",
   "execution_count": 23,
   "metadata": {},
   "outputs": [],
   "source": [
    "from pandarallel import pandarallel"
   ]
  },
  {
   "cell_type": "code",
   "execution_count": 24,
   "metadata": {},
   "outputs": [
    {
     "name": "stdout",
     "output_type": "stream",
     "text": [
      "INFO: Pandarallel will run on 4 workers.\n",
      "INFO: Pandarallel will use Memory file system to transfer data between the main process and workers.\n"
     ]
    }
   ],
   "source": [
    "pandarallel.initialize()"
   ]
  },
  {
   "cell_type": "code",
   "execution_count": 25,
   "metadata": {},
   "outputs": [],
   "source": [
    "num_negatives = 4\n",
    "train_with_negatives['epoch_sampled_negatives'] = train_with_negatives['negative_items'].parallel_apply(lambda x: random.sample(x, num_negatives))"
   ]
  },
  {
   "cell_type": "code",
   "execution_count": 28,
   "metadata": {},
   "outputs": [
    {
     "data": {
      "text/html": [
       "<div>\n",
       "<style scoped>\n",
       "    .dataframe tbody tr th:only-of-type {\n",
       "        vertical-align: middle;\n",
       "    }\n",
       "\n",
       "    .dataframe tbody tr th {\n",
       "        vertical-align: top;\n",
       "    }\n",
       "\n",
       "    .dataframe thead th {\n",
       "        text-align: right;\n",
       "    }\n",
       "</style>\n",
       "<table border=\"1\" class=\"dataframe\">\n",
       "  <thead>\n",
       "    <tr style=\"text-align: right;\">\n",
       "      <th></th>\n",
       "      <th>userId</th>\n",
       "      <th>itemId</th>\n",
       "      <th>rating</th>\n",
       "      <th>negative_items</th>\n",
       "      <th>epoch_sampled_negatives</th>\n",
       "    </tr>\n",
       "  </thead>\n",
       "  <tbody>\n",
       "    <tr>\n",
       "      <th>0</th>\n",
       "      <td>0</td>\n",
       "      <td>0</td>\n",
       "      <td>1</td>\n",
       "      <td>{53, 54, 55, 56, 57, 58, 59, 60, 61, 62, 63, 6...</td>\n",
       "      <td>[1970, 3524, 3230, 1539]</td>\n",
       "    </tr>\n",
       "    <tr>\n",
       "      <th>1</th>\n",
       "      <td>0</td>\n",
       "      <td>1</td>\n",
       "      <td>1</td>\n",
       "      <td>{53, 54, 55, 56, 57, 58, 59, 60, 61, 62, 63, 6...</td>\n",
       "      <td>[69, 918, 3291, 1995]</td>\n",
       "    </tr>\n",
       "    <tr>\n",
       "      <th>2</th>\n",
       "      <td>0</td>\n",
       "      <td>2</td>\n",
       "      <td>1</td>\n",
       "      <td>{53, 54, 55, 56, 57, 58, 59, 60, 61, 62, 63, 6...</td>\n",
       "      <td>[1248, 234, 602, 637]</td>\n",
       "    </tr>\n",
       "    <tr>\n",
       "      <th>3</th>\n",
       "      <td>0</td>\n",
       "      <td>3</td>\n",
       "      <td>1</td>\n",
       "      <td>{53, 54, 55, 56, 57, 58, 59, 60, 61, 62, 63, 6...</td>\n",
       "      <td>[2862, 3052, 3617, 3249]</td>\n",
       "    </tr>\n",
       "    <tr>\n",
       "      <th>4</th>\n",
       "      <td>0</td>\n",
       "      <td>4</td>\n",
       "      <td>1</td>\n",
       "      <td>{53, 54, 55, 56, 57, 58, 59, 60, 61, 62, 63, 6...</td>\n",
       "      <td>[340, 2144, 1216, 1914]</td>\n",
       "    </tr>\n",
       "  </tbody>\n",
       "</table>\n",
       "</div>"
      ],
      "text/plain": [
       "   userId  itemId  rating                                     negative_items  \\\n",
       "0       0       0       1  {53, 54, 55, 56, 57, 58, 59, 60, 61, 62, 63, 6...   \n",
       "1       0       1       1  {53, 54, 55, 56, 57, 58, 59, 60, 61, 62, 63, 6...   \n",
       "2       0       2       1  {53, 54, 55, 56, 57, 58, 59, 60, 61, 62, 63, 6...   \n",
       "3       0       3       1  {53, 54, 55, 56, 57, 58, 59, 60, 61, 62, 63, 6...   \n",
       "4       0       4       1  {53, 54, 55, 56, 57, 58, 59, 60, 61, 62, 63, 6...   \n",
       "\n",
       "    epoch_sampled_negatives  \n",
       "0  [1970, 3524, 3230, 1539]  \n",
       "1     [69, 918, 3291, 1995]  \n",
       "2     [1248, 234, 602, 637]  \n",
       "3  [2862, 3052, 3617, 3249]  \n",
       "4   [340, 2144, 1216, 1914]  "
      ]
     },
     "execution_count": 28,
     "metadata": {},
     "output_type": "execute_result"
    }
   ],
   "source": [
    "train_with_negatives.head()"
   ]
  },
  {
   "cell_type": "markdown",
   "metadata": {},
   "source": [
    "## What do we really do with so-called \"negative-users\""
   ]
  },
  {
   "cell_type": "code",
   "execution_count": 29,
   "metadata": {},
   "outputs": [],
   "source": [
    "eval_test_ratings = pd.merge(test_ratings, train_with_negatives, on='userId')"
   ]
  },
  {
   "cell_type": "code",
   "execution_count": 30,
   "metadata": {},
   "outputs": [
    {
     "data": {
      "text/html": [
       "<div>\n",
       "<style scoped>\n",
       "    .dataframe tbody tr th:only-of-type {\n",
       "        vertical-align: middle;\n",
       "    }\n",
       "\n",
       "    .dataframe tbody tr th {\n",
       "        vertical-align: top;\n",
       "    }\n",
       "\n",
       "    .dataframe thead th {\n",
       "        text-align: right;\n",
       "    }\n",
       "</style>\n",
       "<table border=\"1\" class=\"dataframe\">\n",
       "  <thead>\n",
       "    <tr style=\"text-align: right;\">\n",
       "      <th></th>\n",
       "      <th>userId</th>\n",
       "      <th>itemId_x</th>\n",
       "      <th>rating_x</th>\n",
       "      <th>itemId_y</th>\n",
       "      <th>rating_y</th>\n",
       "      <th>negative_items</th>\n",
       "      <th>epoch_sampled_negatives</th>\n",
       "    </tr>\n",
       "  </thead>\n",
       "  <tbody>\n",
       "    <tr>\n",
       "      <th>0</th>\n",
       "      <td>0</td>\n",
       "      <td>25</td>\n",
       "      <td>1</td>\n",
       "      <td>0</td>\n",
       "      <td>1</td>\n",
       "      <td>{53, 54, 55, 56, 57, 58, 59, 60, 61, 62, 63, 6...</td>\n",
       "      <td>[1970, 3524, 3230, 1539]</td>\n",
       "    </tr>\n",
       "    <tr>\n",
       "      <th>1</th>\n",
       "      <td>0</td>\n",
       "      <td>25</td>\n",
       "      <td>1</td>\n",
       "      <td>1</td>\n",
       "      <td>1</td>\n",
       "      <td>{53, 54, 55, 56, 57, 58, 59, 60, 61, 62, 63, 6...</td>\n",
       "      <td>[69, 918, 3291, 1995]</td>\n",
       "    </tr>\n",
       "    <tr>\n",
       "      <th>2</th>\n",
       "      <td>0</td>\n",
       "      <td>25</td>\n",
       "      <td>1</td>\n",
       "      <td>2</td>\n",
       "      <td>1</td>\n",
       "      <td>{53, 54, 55, 56, 57, 58, 59, 60, 61, 62, 63, 6...</td>\n",
       "      <td>[1248, 234, 602, 637]</td>\n",
       "    </tr>\n",
       "    <tr>\n",
       "      <th>3</th>\n",
       "      <td>0</td>\n",
       "      <td>25</td>\n",
       "      <td>1</td>\n",
       "      <td>3</td>\n",
       "      <td>1</td>\n",
       "      <td>{53, 54, 55, 56, 57, 58, 59, 60, 61, 62, 63, 6...</td>\n",
       "      <td>[2862, 3052, 3617, 3249]</td>\n",
       "    </tr>\n",
       "    <tr>\n",
       "      <th>4</th>\n",
       "      <td>0</td>\n",
       "      <td>25</td>\n",
       "      <td>1</td>\n",
       "      <td>4</td>\n",
       "      <td>1</td>\n",
       "      <td>{53, 54, 55, 56, 57, 58, 59, 60, 61, 62, 63, 6...</td>\n",
       "      <td>[340, 2144, 1216, 1914]</td>\n",
       "    </tr>\n",
       "  </tbody>\n",
       "</table>\n",
       "</div>"
      ],
      "text/plain": [
       "   userId  itemId_x  rating_x  itemId_y  rating_y  \\\n",
       "0       0        25         1         0         1   \n",
       "1       0        25         1         1         1   \n",
       "2       0        25         1         2         1   \n",
       "3       0        25         1         3         1   \n",
       "4       0        25         1         4         1   \n",
       "\n",
       "                                      negative_items   epoch_sampled_negatives  \n",
       "0  {53, 54, 55, 56, 57, 58, 59, 60, 61, 62, 63, 6...  [1970, 3524, 3230, 1539]  \n",
       "1  {53, 54, 55, 56, 57, 58, 59, 60, 61, 62, 63, 6...     [69, 918, 3291, 1995]  \n",
       "2  {53, 54, 55, 56, 57, 58, 59, 60, 61, 62, 63, 6...     [1248, 234, 602, 637]  \n",
       "3  {53, 54, 55, 56, 57, 58, 59, 60, 61, 62, 63, 6...  [2862, 3052, 3617, 3249]  \n",
       "4  {53, 54, 55, 56, 57, 58, 59, 60, 61, 62, 63, 6...   [340, 2144, 1216, 1914]  "
      ]
     },
     "execution_count": 30,
     "metadata": {},
     "output_type": "execute_result"
    }
   ],
   "source": [
    "eval_test_ratings.head()"
   ]
  },
  {
   "cell_type": "code",
   "execution_count": 31,
   "metadata": {},
   "outputs": [
    {
     "ename": "AttributeError",
     "evalue": "'Pandas' object has no attribute 'negative_samples'",
     "output_type": "error",
     "traceback": [
      "\u001b[0;31m---------------------------------------------------------------------------\u001b[0m",
      "\u001b[0;31mAttributeError\u001b[0m                            Traceback (most recent call last)",
      "\u001b[0;32m<ipython-input-31-89c72019c185>\u001b[0m in \u001b[0;36m<module>\u001b[0;34m\u001b[0m\n\u001b[1;32m      3\u001b[0m     \u001b[0mtest_users\u001b[0m\u001b[0;34m.\u001b[0m\u001b[0mappend\u001b[0m\u001b[0;34m(\u001b[0m\u001b[0mint\u001b[0m\u001b[0;34m(\u001b[0m\u001b[0mrow\u001b[0m\u001b[0;34m.\u001b[0m\u001b[0muserId\u001b[0m\u001b[0;34m)\u001b[0m\u001b[0;34m)\u001b[0m\u001b[0;34m\u001b[0m\u001b[0;34m\u001b[0m\u001b[0m\n\u001b[1;32m      4\u001b[0m     \u001b[0mtest_items\u001b[0m\u001b[0;34m.\u001b[0m\u001b[0mappend\u001b[0m\u001b[0;34m(\u001b[0m\u001b[0mint\u001b[0m\u001b[0;34m(\u001b[0m\u001b[0mrow\u001b[0m\u001b[0;34m.\u001b[0m\u001b[0mitemId\u001b[0m\u001b[0;34m)\u001b[0m\u001b[0;34m)\u001b[0m\u001b[0;34m\u001b[0m\u001b[0;34m\u001b[0m\u001b[0m\n\u001b[0;32m----> 5\u001b[0;31m     \u001b[0;32mfor\u001b[0m \u001b[0mi\u001b[0m \u001b[0;32min\u001b[0m \u001b[0mrange\u001b[0m\u001b[0;34m(\u001b[0m\u001b[0mlen\u001b[0m\u001b[0;34m(\u001b[0m\u001b[0mrow\u001b[0m\u001b[0;34m.\u001b[0m\u001b[0mnegative_samples\u001b[0m\u001b[0;34m)\u001b[0m\u001b[0;34m)\u001b[0m\u001b[0;34m:\u001b[0m\u001b[0;34m\u001b[0m\u001b[0;34m\u001b[0m\u001b[0m\n\u001b[0m\u001b[1;32m      6\u001b[0m         \u001b[0mnegative_users\u001b[0m\u001b[0;34m.\u001b[0m\u001b[0mappend\u001b[0m\u001b[0;34m(\u001b[0m\u001b[0mint\u001b[0m\u001b[0;34m(\u001b[0m\u001b[0mrow\u001b[0m\u001b[0;34m.\u001b[0m\u001b[0muserId\u001b[0m\u001b[0;34m)\u001b[0m\u001b[0;34m)\u001b[0m\u001b[0;34m\u001b[0m\u001b[0;34m\u001b[0m\u001b[0m\n\u001b[1;32m      7\u001b[0m         \u001b[0mnegative_items\u001b[0m\u001b[0;34m.\u001b[0m\u001b[0mappend\u001b[0m\u001b[0;34m(\u001b[0m\u001b[0mint\u001b[0m\u001b[0;34m(\u001b[0m\u001b[0mrow\u001b[0m\u001b[0;34m.\u001b[0m\u001b[0mnegative_samples\u001b[0m\u001b[0;34m[\u001b[0m\u001b[0mi\u001b[0m\u001b[0;34m]\u001b[0m\u001b[0;34m)\u001b[0m\u001b[0;34m)\u001b[0m\u001b[0;34m\u001b[0m\u001b[0;34m\u001b[0m\u001b[0m\n",
      "\u001b[0;31mAttributeError\u001b[0m: 'Pandas' object has no attribute 'negative_samples'"
     ]
    }
   ],
   "source": [
    "test_users, test_items, negative_users, negative_items = [], [], [], []\n",
    "for row in eval_test_ratings.itertuples():\n",
    "    test_users.append(int(row.userId))\n",
    "    test_items.append(int(row.itemId))\n",
    "    for i in range(len(row.negative_items)):\n",
    "        negative_users.append(int(row.userId))\n",
    "        negative_items.append(int(row.negative_items[i]))"
   ]
  },
  {
   "cell_type": "markdown",
   "metadata": {},
   "source": [
    "## ?!\n",
    "\n",
    "I am not sure that assigning zero as a rating to negative sample acutally makes sense?!. TODO: should check"
   ]
  },
  {
   "cell_type": "code",
   "execution_count": 34,
   "metadata": {},
   "outputs": [],
   "source": [
    "users, items, ratings = [], [], []\n",
    "for idx, row in enumerate(train_with_negatives.itertuples()):\n",
    "        users.append(int(row.userId))\n",
    "        items.append(int(row.itemId))\n",
    "        ratings.append(float(row.rating))\n",
    "        for i in range(num_negatives):\n",
    "            users.append(int(row.userId))\n",
    "            items.append(int(row.epoch_sampled_negatives[i]))\n",
    "            ratings.append(float(0))  # negative samples get 0 rating\n",
    "        if idx == 10:\n",
    "            break"
   ]
  },
  {
   "cell_type": "code",
   "execution_count": null,
   "metadata": {},
   "outputs": [],
   "source": [
    "users, items, ratings = [], [], []\n",
    "for row in train_ratings.itertuples():\n",
    "        users.append(int(row.userId))\n",
    "        items.append(int(row.itemId))\n",
    "        ratings.append(float(row.rating))\n",
    "        for i in range(num_negatives):\n",
    "            users.append(int(row.userId))\n",
    "            items.append(int(row.negatives[i]))\n",
    "            ratings.append(float(0))  # negative samples get 0 rating\n",
    "    dataset = UserItemRatingDataset(user_tensor=torch.LongTensor(users),\n",
    "                                    item_tensor=torch.LongTensor(items),\n",
    "                                    target_tensor=torch.FloatTensor(ratings))"
   ]
  },
  {
   "cell_type": "code",
   "execution_count": 45,
   "metadata": {},
   "outputs": [],
   "source": [
    "class SampleGenerator():\n",
    "    def __init__(self, ratings):\n",
    "        \"\"\"\n",
    "        args:\n",
    "            ratings: pd.DataFrame, which contains 4 columns = ['userId', 'itemId', 'rating', 'timestamp']\n",
    "        \"\"\"\n",
    "        assert 'userId' in ratings.columns\n",
    "        assert 'itemId' in ratings.columns\n",
    "        assert 'rating' in ratings.columns\n",
    "\n",
    "        self.ratings = ratings\n",
    "        \n",
    "        self.preprocess_ratings = self._binarize(ratings)\n",
    "        self.user_pool = set(self.ratings['userId'].unique())\n",
    "        self.item_pool = set(self.ratings['itemId'].unique())\n",
    "        # create negative item samples for NCF learning\n",
    "        self.negatives = self._sample_negative(ratings)\n",
    "        self.train_ratings, self.test_ratings = self._leave_last_out(self.preprocess_ratings)\n",
    "        \n",
    "        self.train_with_negatives = pd.merge(self.train_ratings, \n",
    "                                 self.negatives[['userId', 'negative_items']], on='userId')\n",
    "        \n",
    "    def _binarize(self, ratings):\n",
    "        \"\"\"binarize into 0 or 1, imlicit feedback\"\"\"\n",
    "        ratings = deepcopy(ratings)\n",
    "        ratings['rating'][ratings['rating'] > 0] = 1.0\n",
    "        return ratings    \n",
    "    \n",
    "    def _leave_last_out(self, ratings):\n",
    "        \"\"\"leave one out train/test split \"\"\"\n",
    "        ratings['rank_latest'] = ratings.groupby(['userId'])['timestamp'].rank(method='first', ascending=False)\n",
    "        test = ratings[ratings['rank_latest'] == 1]\n",
    "        train = ratings[ratings['rank_latest'] > 1]\n",
    "        assert train['userId'].nunique() == test['userId'].nunique()\n",
    "        return train[['userId', 'itemId', 'rating']], test[['userId', 'itemId', 'rating']]\n",
    "    \n",
    "    def _sampltrain_with_negativese_negative(self, ratings):\n",
    "        \"\"\"return all negative items & 100 sampled negative items\"\"\"\n",
    "        interact_status = ratings.groupby('userId')['itemId'].apply(set).reset_index().rename(\n",
    "            columns={'itemId': 'interacted_items'})\n",
    "        interact_status['negative_items'] = interact_status['interacted_items'].apply(lambda x: self.item_pool - x)\n",
    "        interact_status['negative_samples'] = interact_status['negative_items'].apply(lambda x: random.sample(x, 99))\n",
    "        return interact_status[['userId', 'negative_items', 'negative_samples']]\n",
    "    \n",
    "    def __prepare_epoch(self, num_negatives, batch_size):\n",
    "        users, items, ratings = [], [], []\n",
    "        ## OK, now i understand why they do it in every epoch... \n",
    "        train_with_negatives['epoch_sampled_negatives'] = \\\n",
    "            train_with_negatives['negative_items'].parallel_apply(lambda x: random.sample(x, num_negatives))\n",
    "        for row in train_ratings.itertuples():\n",
    "                users.append(int(row.userId))\n",
    "                items.append(int(row.itemId))\n",
    "                ratings.append(float(row.rating))\n",
    "                for i in range(num_negatives):\n",
    "                    users.append(int(row.userId))\n",
    "                    items.append(int(row.negatives[i]))\n",
    "                    ratings.append(float(0))  # negative samples get 0 rating\n",
    "        dataset = UserItemRatingDataset(user_tensor=torch.LongTensor(users),\n",
    "                                        item_tensor=torch.LongTensor(items),\n",
    "                                        target_tensor=torch.FloatTensor(ratings)) \n",
    "        return DataLoader(dataset, batch_size=batch_size, shuffle=True)        \n",
    "\n",
    "    @property\n",
    "    def evaluation_data(self):\n",
    "        test_ratings = pd.merge(self.test_ratings, self.negatives[['userId', 'negative_samples']], on='userId')\n",
    "        test_users, test_items, negative_users, negative_items = [], [], [], []\n",
    "        for row in test_ratings.itertuples():\n",
    "            test_users.append(int(row.userId))\n",
    "            test_items.append(int(row.itemId))\n",
    "            for i in range(len(row.negative_samples)):\n",
    "                negative_users.append(int(row.userId))\n",
    "                negative_items.append(int(row.negative_samples[i]))\n",
    "        return [torch.LongTensor(test_users), torch.LongTensor(test_items), torch.LongTensor(negative_users),\n",
    "                torch.LongTensor(negative_items)]"
   ]
  },
  {
   "cell_type": "code",
   "execution_count": null,
   "metadata": {},
   "outputs": [],
   "source": []
  }
 ],
 "metadata": {
  "kernelspec": {
   "display_name": "Python 3",
   "language": "python",
   "name": "python3"
  },
  "language_info": {
   "codemirror_mode": {
    "name": "ipython",
    "version": 3
   },
   "file_extension": ".py",
   "mimetype": "text/x-python",
   "name": "python",
   "nbconvert_exporter": "python",
   "pygments_lexer": "ipython3",
   "version": "3.6.9"
  }
 },
 "nbformat": 4,
 "nbformat_minor": 4
}
